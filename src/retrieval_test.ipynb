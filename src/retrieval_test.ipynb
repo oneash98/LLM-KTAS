{
 "cells": [
  {
   "cell_type": "code",
   "execution_count": 7,
   "id": "5f6fd875",
   "metadata": {
    "executionInfo": {
     "elapsed": 2511,
     "status": "ok",
     "timestamp": 1744334944293,
     "user": {
      "displayName": "김한재",
      "userId": "16302250328262472141"
     },
     "user_tz": -540
    },
    "id": "5f6fd875"
   },
   "outputs": [],
   "source": [
    "from langchain_huggingface.embeddings import HuggingFaceEndpointEmbeddings\n",
    "from langchain_huggingface import HuggingFaceEndpoint\n",
    "from huggingface_hub import login\n",
    "from dotenv import load_dotenv\n",
    "import os\n",
    "from langchain_community.vectorstores import FAISS\n",
    "from langchain_community.chat_models import ChatOllama\n",
    "from langchain_core.prompts import PromptTemplate\n",
    "from langchain_core.output_parsers import StrOutputParser\n",
    "\n",
    "\n",
    "# 코랩에서 실행 시 .env 설정\n",
    "if os.path.exists(\"/content/drive/MyDrive/Colab Notebooks/LLM-KTAS/.env.txt\"):\n",
    "  try:\n",
    "    os.rename(\"/content/drive/MyDrive/Colab Notebooks/LLM-KTAS/.env.txt\", \"/content/drive/MyDrive/Colab Notebooks/LLM-KTAS/.env\")\n",
    "  except FileNotFoundError:\n",
    "    print(\"파일이 존재하지 않습니다.\")\n",
    "    exit(1)\n",
    "  except OSError as e:\n",
    "    print(f\"파일 이름 변경 중 오류 발생: {e}\")\n",
    "    exit(1)\n",
    "\n",
    "    load_dotenv('/content/drive/MyDrive/Colab Notebooks/LLM-KTAS/.env')\n",
    "\n",
    "else:\n",
    "  load_dotenv()\n",
    "\n",
    "HF_API_TOKEN = os.environ[\"HF_API_TOKEN\"]"
   ]
  },
  {
   "cell_type": "code",
   "execution_count": 8,
   "id": "57688340",
   "metadata": {
    "executionInfo": {
     "elapsed": 1339,
     "status": "ok",
     "timestamp": 1744334950185,
     "user": {
      "displayName": "김한재",
      "userId": "16302250328262472141"
     },
     "user_tz": -540
    },
    "id": "57688340"
   },
   "outputs": [],
   "source": [
    "# 임베딩 모델\n",
    "\n",
    "hf_embeddings = HuggingFaceEndpointEmbeddings(\n",
    "    model=\"intfloat/multilingual-e5-large-instruct\",\n",
    "    # task = 'feature-extraction',\n",
    "    huggingfacehub_api_token=HF_API_TOKEN\n",
    ")\n",
    "\n",
    "\n",
    "# 벡터db (FAISS)\n",
    "db = FAISS.load_local('db/KTAS_adult_faiss', hf_embeddings, allow_dangerous_deserialization=True)"
   ]
  },
  {
   "cell_type": "code",
   "execution_count": 9,
   "id": "9284fa33",
   "metadata": {
    "executionInfo": {
     "elapsed": 17,
     "status": "ok",
     "timestamp": 1744334950205,
     "user": {
      "displayName": "김한재",
      "userId": "16302250328262472141"
     },
     "user_tz": -540
    },
    "id": "9284fa33"
   },
   "outputs": [],
   "source": [
    "# retrieval 결과에서 1, 2차 고려사항 추출 함수\n",
    "def get_considerations(search_result):\n",
    "    metadata = search_result[0][0].metadata\n",
    "    primary = metadata['primary']\n",
    "    secondary = metadata['secondary']\n",
    "\n",
    "    return primary, secondary"
   ]
  },
  {
   "cell_type": "code",
   "execution_count": 37,
   "id": "6b03671b",
   "metadata": {
    "executionInfo": {
     "elapsed": 560,
     "status": "ok",
     "timestamp": 1744337208351,
     "user": {
      "displayName": "김한재",
      "userId": "16302250328262472141"
     },
     "user_tz": -540
    },
    "id": "6b03671b"
   },
   "outputs": [],
   "source": [
    "# LLM 모델\n",
    "llm = ChatOllama(model = \"llama3.1:8b-instruct-q4_K_M\")\n",
    "\n",
    "# output parser\n",
    "output_parser = StrOutputParser()"
   ]
  },
  {
   "cell_type": "code",
   "execution_count": 38,
   "id": "ff0feacf",
   "metadata": {
    "executionInfo": {
     "elapsed": 2,
     "status": "ok",
     "timestamp": 1744337208355,
     "user": {
      "displayName": "김한재",
      "userId": "16302250328262472141"
     },
     "user_tz": -540
    },
    "id": "ff0feacf"
   },
   "outputs": [],
   "source": [
    "# 엔티티 추출 파이프라인\n",
    "\n",
    "template_NER = \"\"\"You are a specialized assistance for recognizing medical entities. You will receive a patient’s <Chief Coplaint> and <Additional Notes> and you must extract all entities that correspond to the chief complaint or primary symptoms.\n",
    "\n",
    "Important Constraints:\n",
    "- If multiple entities are present, output the in a single line separated by commas.\n",
    "- Make sure to retain the exact text as it appears in the original note without any modifications.\n",
    "- Output only the final result without adding any additional text, explanations, or formatting.\n",
    "\n",
    "Read the following information carefully and extract all entities corresponding to the chief complaint or primary symptoms.\n",
    "\n",
    "<Chief Complaint>:\n",
    "{chief_complaint}\n",
    "\n",
    "<Additional Notes>:\n",
    "{additional_notes}\"\"\"\n",
    "\n",
    "prompt_NER = PromptTemplate.from_template(template_NER)\n",
    "chain_NER = prompt_NER | llm | output_parser"
   ]
  },
  {
   "cell_type": "code",
   "execution_count": 39,
   "id": "4f081c36",
   "metadata": {
    "executionInfo": {
     "elapsed": 21,
     "status": "ok",
     "timestamp": 1744337208378,
     "user": {
      "displayName": "김한재",
      "userId": "16302250328262472141"
     },
     "user_tz": -540
    },
    "id": "4f081c36"
   },
   "outputs": [],
   "source": [
    "# 주증상 추출 파이프라인\n",
    "\n",
    "template_symptom = \"\"\"You are a specialized medical symptom classification assistant. You will receive a patient’s <Chief Coplaint> and <Additional Notes> and you must choose exactly one symptom from a predefined list of <Possible Symptoms>.\n",
    "\n",
    "Important Constraints:\n",
    "- You must choose only one symptom from the list.\n",
    "- Your answer must exactly match the corresponding symptom in the <Possible Symptoms> (including spacing, punctuation, letter case, etc.).\n",
    "- Output only the final result without adding any additional text, explanations, or formatting.\n",
    "\n",
    "Read the following information carefully and determine which single symptom from the <Possible Symptoms> best matches the information given.\n",
    "\n",
    "<Chief Complaint>:\n",
    "{chief_complaint}\n",
    "\n",
    "<Additional Notes>:\n",
    "{additional_notes}\n",
    "\n",
    "<Possible Symptoms>\n",
    "{possible_symptoms}\"\"\"\n",
    "\n",
    "prompt_symptom = PromptTemplate.from_template(template_symptom)\n",
    "chain_symptom = prompt_symptom | llm | output_parser"
   ]
  },
  {
   "cell_type": "code",
   "execution_count": 40,
   "id": "NRilzO4AWsVJ",
   "metadata": {
    "executionInfo": {
     "elapsed": 2,
     "status": "ok",
     "timestamp": 1744337208382,
     "user": {
      "displayName": "김한재",
      "userId": "16302250328262472141"
     },
     "user_tz": -540
    },
    "id": "NRilzO4AWsVJ"
   },
   "outputs": [],
   "source": [
    "# 주증상 추출 (self CoT) 파이프라인\n",
    "\n",
    "template_symptom_self_CoT = \"\"\"You are a specialized medical symptom classification assistant. You will receive a patient’s <Chief Coplaint> and <Additional Notes> and you must choose exactly one symptom from a predefined list of <Possible Symptoms>.\n",
    "\n",
    "Important Constraints:\n",
    "- You must choose only one symptom from the list.\n",
    "- Your answer must exactly match the corresponding symptom in the <Possible Symptoms> (including spacing, punctuation, letter case, etc.).\n",
    "- Think step by step.\n",
    "- Output your reasoning step, but end with the final answer in the format of '<FINAL ANSWER: your answer>'\n",
    "\n",
    "\n",
    "Read the following information carefully and determine which single symptom from the <Possible Symptoms> best matches the information given.\n",
    "\n",
    "<Chief Complaint>:\n",
    "{chief_complaint}\n",
    "\n",
    "<Additional Notes>:\n",
    "{additional_notes}\n",
    "\n",
    "<Possible Symptoms>\n",
    "{possible_symptoms}\n",
    "\n",
    "\n",
    "Let's think step by step...\"\"\"\n",
    "\n",
    "prompt_symptom_self_CoT = PromptTemplate.from_template(template_symptom_self_CoT)\n",
    "chain_symptom_self_CoT = prompt_symptom_self_CoT | llm | output_parser"
   ]
  },
  {
   "cell_type": "code",
   "execution_count": 41,
   "id": "9SDqCKGwYnmv",
   "metadata": {
    "executionInfo": {
     "elapsed": 2,
     "status": "ok",
     "timestamp": 1744337208385,
     "user": {
      "displayName": "김한재",
      "userId": "16302250328262472141"
     },
     "user_tz": -540
    },
    "id": "9SDqCKGwYnmv"
   },
   "outputs": [],
   "source": [
    "# 주증상 추출 (instruct CoT) 파이프라인\n",
    "\n",
    "template_symptom_instruct_CoT = \"\"\"You are a specialized medical symptom classification assistant. You will receive a patient’s <Chief Coplaint> and <Additional Notes> and you must choose exactly one symptom from a predefined list of <Possible Symptoms>.\n",
    "\n",
    "Important Constraints:\n",
    "- You must choose only one symptom from the list.\n",
    "- Your answer must exactly match the corresponding symptom in the <Possible Symptoms> (including spacing, punctuation, letter case, etc.).\n",
    "- Think step by step following the instruction below:\n",
    "Step 1: Analyze <Chief Complaint> and <Additional Notes>\n",
    "Step 2. Identify several potential candidates among the possible symptoms.\n",
    "Step 3. Compare the candidates and select the most appropriate one as the final answer.\n",
    "Step 4. Re-examine your final answer. If it seems inappropriate, go back to step 3 and refine your answer.\n",
    "- Output your reasoning step, but end with the final answer in the format of '<FINAL ANSWER: your answer>'\n",
    "\n",
    "\n",
    "Read the following information carefully and determine which single symptom from the <Possible Symptoms> best matches the information given.\n",
    "\n",
    "<Chief Complaint>:\n",
    "{chief_complaint}\n",
    "\n",
    "<Additional Notes>:\n",
    "{additional_notes}\n",
    "\n",
    "<Possible Symptoms>\n",
    "{possible_symptoms}\n",
    "\n",
    "\n",
    "Let's think step by step...\"\"\"\n",
    "\n",
    "prompt_symptom_instruct_CoT = PromptTemplate.from_template(template_symptom_instruct_CoT)\n",
    "chain_symptom_instruct_CoT = prompt_symptom_instruct_CoT | llm | output_parser"
   ]
  },
  {
   "cell_type": "code",
   "execution_count": 42,
   "id": "c574c82b",
   "metadata": {
    "colab": {
     "base_uri": "https://localhost:8080/",
     "height": 237
    },
    "executionInfo": {
     "elapsed": 5,
     "status": "ok",
     "timestamp": 1744337208392,
     "user": {
      "displayName": "김한재",
      "userId": "16302250328262472141"
     },
     "user_tz": -540
    },
    "id": "c574c82b",
    "outputId": "9faec525-e986-48db-d5d7-1b4ba9a43c60"
   },
   "outputs": [
    {
     "data": {
      "application/vnd.google.colaboratory.intrinsic+json": {
       "type": "string"
      },
      "text/plain": [
       "'20주 미만의 임신\\n20주 이상의 임신\\n감각상실 / 이상감각\\n감염 가능성 확인\\n감염성 질환에 노출\\n객혈\\n경증 및 비특이적 증상 호소\\n고혈당\\n고혈압\\n고환 통증 / 부종\\n과다 복용\\n과다호흡증후군\\n관절 부종\\n구토 / 구역\\n국소성 부종 / 발적\\n귀의 삼출물\\n귀의 손상\\n귀의 이물질\\n기괴한 행동\\n기억상실\\n기침 / 코막힘\\n기타 피부 상태\\n눈 충혈 / 분비물\\n눈 통증\\n눈부심\\n눈의 외상\\n눈의 이물질\\n눈의 화학물질 노출\\n다뇨증\\n다리 부기 / 부종\\n단독 복부 외상 - 관통상\\n단독 복부 외상 - 둔상\\n단독 흉부 외상 - 관통상\\n단독 흉부 외상 - 둔상\\n동상 / 한랭손상\\n두부 손상\\n두통\\n드레싱 교체\\n딸꾹질\\n떨림\\n맥박이 없거나 차가운 사지\\n목, 등, 허리 통증\\n목의 부종 / 통증\\n목의 외상\\n몸통을 포함한 다발성 외상 - 관통상\\n몸통을 포함한 다발성 외상 - 둔상\\n물림\\n물질 금단\\n물질 오용 / 중독\\n반지 제거\\n발작\\n발진\\n변비\\n보행 장애 / 운동 실조 / 강직\\n복부 종괴 / 팽만\\n복시\\n복통\\n불면증\\n불안 / 위기 상황\\n비정상 검사 결과\\n사지 약화 / 뇌졸중 증상\\n사회문제\\n상기도감염 증상 호소\\n상지 손상\\n상지 통증\\n상처 확인\\n샅고랑 부위 통증 / 종괴\\n생식기의 분비물 / 피부병변\\n생식기의 외상\\n석고 붕대 확인\\n설사\\n성폭행\\n소변배출장애\\n소양증\\n수술 후 합병증\\n숨참\\n스테이플 / 봉합사 제거\\n시력장애\\n식욕부진\\n실신 / 전실신\\n심계항진 / 불규칙한 심장박동\\n심정지(비외상성)\\n심정지(외상성)\\n쏘임\\n안면 외상\\n안면 통증 (비외상성 / 비치아성)\\n안와주위 부종\\n알레르기 반응\\n연하장애 / 연하곤란\\n열\\n열상 / 천공\\n영상 검사 / 검사실 검사\\n옆구리 통증\\n온열손상\\n외상성 목, 등, 허리 손상\\n외상없이 저절로 멍듦\\n요로감염 증상\\n우울증 / 자살 / 자해\\n월경 문제\\n유방의 발적 / 압통\\n유해물질 흡입\\n음경 부종\\n음순 부종\\n의료 장비 문제\\n의식 수준의 변화\\n이명\\n이물질 삼킴\\n이통\\n익수\\n인후통\\n일측성의 홍조 띤 뜨거운 사지\\n저체온증\\n저혈당\\n전기 손상\\n전문 진료를 위해서 의뢰된 환자\\n전신 부종\\n전신 쇠약\\n절단\\n직장내 이물질\\n질 분비물\\n질 출혈\\n질 통증 / 가려움\\n질내 이물질 \\n착란\\n찰과상\\n창백함 / 빈혈\\n처방전 / 투약 문의\\n청력소실\\n청색증\\n출산 후 문제 (6주 이내)\\n치아 / 구강 문제\\n코막힘\\n코의 외상\\n코의 이물질\\n코피\\n토혈\\n폭력 / 살인 행위\\n피부의 이물질\\n핍뇨증\\n하지 손상 \\n하지 통증\\n항문 / 직장 / 회음부 외상\\n항문 / 직장 / 회음부 통증\\n현훈\\n혈뇨\\n혈변 / 흑색변\\n혈액이나 체액에 노출\\n호흡 정지\\n호흡기 이물질\\n혹, 돌기, 굳은 살\\n화상\\n화학물질 노출\\n환각 / 망상\\n환자의 안녕에 대한 고려 (학대, 방임)\\n황달\\n흉통 (비심장성)\\n흉통 (심장성)\\n'"
      ]
     },
     "execution_count": 42,
     "metadata": {},
     "output_type": "execute_result"
    }
   ],
   "source": [
    "# KTAS 증상 모음\n",
    "with open ('../data/KTAS_symptoms.txt', 'r', encoding='utf-8-sig') as f:\n",
    "    possible_symptoms = f.read()\n",
    "\n",
    "possible_symptoms"
   ]
  },
  {
   "cell_type": "code",
   "execution_count": 43,
   "id": "e3b221f8",
   "metadata": {
    "executionInfo": {
     "elapsed": 2,
     "status": "ok",
     "timestamp": 1744337208395,
     "user": {
      "displayName": "김한재",
      "userId": "16302250328262472141"
     },
     "user_tz": -540
    },
    "id": "e3b221f8"
   },
   "outputs": [],
   "source": [
    "# 테스트 데이터\n",
    "\n",
    "chief_complaint_1 = 'Disorientated'\n",
    "additional_notes_1 = 'flapping tremor(-) 2차병원 내원하여 검사 안내함.'\n",
    "\n",
    "chief_complaint_2 = 'Cough, Fever and chilling'\n",
    "additional_notes_2 = '''fever upto 38.1\n",
    "\n",
    "4pm 캐롤에프 해열제 목용 후 내원함.'''\n",
    "\n",
    "chief_complaint_3 = 'AVF malfunction'\n",
    "additional_notes_3 = '''월, 수, 금 HD > 금일 투석 못함\n",
    "\n",
    "--------------------------------------------\n",
    "\n",
    "■ 최근 21일 이내 해외 여행력 (국가명) : 없음\n",
    "\n",
    "-------------------------------------------\n",
    "\n",
    "■ 최근 7일 이내 COVID-19 확진력/증빙자료 여부 : 없음\n",
    "\n",
    "-------------------------------------------\n",
    "\n",
    "\n",
    "\n",
    "혈액검사하고 퇴원한 후 내일 시술 > 동의됨'''\n",
    "\n",
    "chief_complaint_4 = 'Seizure like movement (zittering)'\n",
    "additional_notes_4 = '''119도착 당시 bp 70대로 NS 500cc 가량 loading\n",
    "\n",
    "5분 이내 upper eyeball deviation, 팔떨고 뒤로 넘어갔다고 함.'''\n",
    "\n",
    "chief_complaint_5 = 'Head trauma'\n",
    "additional_notes_5 = '''3/1 오른쪽 저리고 마비증상, 인지기능 저하 증상 발생 -> 현재 호전\n",
    "\n",
    "타병원 hemorrhage 소견 받고 내원,\n",
    "\n",
    "의뢰서 (-) 영상(+)\n",
    "\n",
    "--------------------------------------------\n",
    "\n",
    "■ 최근 21일 이내 해외 여행력 (국가명) : 없음\n",
    "\n",
    "-------------------------------------------\n",
    "\n",
    "■ 최근 7일 이내 COVID-19 확진력/증빙자료 여부 : 없음\n",
    "\n",
    "-------------------------------------------\n",
    "\n",
    "\n",
    "\n",
    "-------------------------------------------\n",
    "\n",
    "현재 본원 응급실 의료진이 다수의 중증 응급환자 처지 중에 있어 본원 응급실에서는 즉각적인 응급 검사 및 처치가 불가능한 상태임을 설명하였으며 타 병원 방문하여 진료, 검사를 통해 진단 및 처치 진행해야 함을 고지하였음.\n",
    "\n",
    "진단이 지연될 경우 미 확인된 의학적 상황으로 인한 환자의 상태 악화가 발생할 수 있음을 설명하였음. 환자 및 보호자 이와 같은 설명을 이해하였음을 확인함\n",
    "\n",
    "-------------------------------------------'''\n",
    "\n",
    "chief_complaint_6 = 'Myalgia'\n",
    "additional_notes_6 = '''2월 중순부터 chilling (+) > local 에서 urine  lab 계속 진행\n",
    "\n",
    "chilling, myalgia, fever +'''\n",
    "\n",
    "chief_complaint_7 = 'Nausea and vomiting'\n",
    "additional_notes_7 = '''2/26 타병원에서 Rib Fx. 진단받고, Painkiller PO med 복용 중 Nausea, Vomiting 있어 내원함. 어제부터 PO Painkiller 복용 중단했으나, 증상 지속된다고 함.\n",
    "\n",
    "P.O.I [+]'''\n",
    "\n",
    "chief_complaint_8 = 'Presyncope'\n",
    "additional_notes_8 = '''보호자 진술 상 환자 쓰러졌다고 하나 의식소실 없고 정확히 쓰러진건지 모르겠다고 함.\n",
    "\n",
    "신경학적 증상 -\n",
    "\n",
    "\n",
    "\n",
    "이미 금일 2차병원에서 영상검사, 혈액검사 이상소견 없다고 들었다고 함.\n",
    "\n",
    "\n",
    "\n",
    "------------------------------------------------------------------------------\n",
    "\n",
    "현재 본원 응급실 의료진이 다수의 중증 응급환자 처지 중에 있어 본원 응급실에서는 즉각적인 응급 검사 및 처치가 불가능한 상태임을 설명하였으며 타 병원 방문하여 진료, 검사를 통해 진단 및 처치 진행해야 함을 고지하였음.\n",
    "\n",
    "진단이 지연될 경우 미 확인된 의학적 상황으로 인한 환자의 상태 악화가 발생할 수 있음을 설명하였음. 환자 및 보호자 이와 같은 설명을 이해하였음을 확인함.'''\n",
    "\n",
    "chief_complaint_9 = 'Anal bleeding, Dizziness, hematochezia'\n",
    "additional_notes_9 = '''A.fib with RVR 심장내과협진후 퇴원하시분 lixiana 복용 후 소량의 혈변있어 내원함. 평소에 치질 있는 분으로 치질부위에 쓰라린 감있으며 그쪽에서 출혈이 있는것 같다고함. 2차병원 내원하여 검사 하고 복용약 지속여부는 외래에 문의 안내함.'''\n",
    "\n",
    "chief_complaint_10 = 'Decreased visual acuity'\n",
    "additional_notes_10 = '''왼쪽 안구 거의 전체가 회색으로 안개가 끼어있는 듯하다함.23년도 시신경염 증상과 비슷. 1-2시간 전부터 안구 통증 심해져서 내원'''"
   ]
  },
  {
   "cell_type": "code",
   "execution_count": 44,
   "id": "0NZSHZOCOeXj",
   "metadata": {
    "executionInfo": {
     "elapsed": 9,
     "status": "ok",
     "timestamp": 1744337208440,
     "user": {
      "displayName": "김한재",
      "userId": "16302250328262472141"
     },
     "user_tz": -540
    },
    "id": "0NZSHZOCOeXj"
   },
   "outputs": [],
   "source": [
    "chief_complaint_list = [chief_complaint_1, chief_complaint_2, chief_complaint_3, chief_complaint_4, chief_complaint_5]\n",
    "additional_notes_list = [additional_notes_1, additional_notes_2, additional_notes_3, additional_notes_4, additional_notes_5]"
   ]
  },
  {
   "cell_type": "code",
   "execution_count": 44,
   "id": "72dd5c8c",
   "metadata": {
    "executionInfo": {
     "elapsed": 18,
     "status": "ok",
     "timestamp": 1744337208504,
     "user": {
      "displayName": "김한재",
      "userId": "16302250328262472141"
     },
     "user_tz": -540
    },
    "id": "72dd5c8c"
   },
   "outputs": [],
   "source": []
  },
  {
   "cell_type": "markdown",
   "id": "d76a33aa",
   "metadata": {
    "id": "d76a33aa"
   },
   "source": [
    "### 테스트1: 주호소와 비고를 그대로 사용하여 vector DB에서 semantic search (top 1)"
   ]
  },
  {
   "cell_type": "code",
   "execution_count": 30,
   "id": "ca554eb7",
   "metadata": {
    "colab": {
     "base_uri": "https://localhost:8080/"
    },
    "executionInfo": {
     "elapsed": 2075,
     "status": "ok",
     "timestamp": 1744336847904,
     "user": {
      "displayName": "김한재",
      "userId": "16302250328262472141"
     },
     "user_tz": -540
    },
    "id": "ca554eb7",
    "outputId": "d7045ed3-f4ab-4721-f14a-b6d5afa68ef2"
   },
   "outputs": [
    {
     "name": "stdout",
     "output_type": "stream",
     "text": [
      "case  1\n",
      "주호소: Disorientated\n",
      "비고: flapping tremor(-) 2차병원 내원하여 검사 안내함. \n",
      "\n",
      "검색 결과:  사지 약화 / 뇌졸중 증상 \n",
      "\n",
      "\n",
      "case  2\n",
      "주호소: Cough, Fever and chilling\n",
      "비고: fever upto 38.1\n",
      "\n",
      "4pm 캐롤에프 해열제 목용 후 내원함. \n",
      "\n",
      "검색 결과:  기침 / 코막힘 \n",
      "\n",
      "\n",
      "case  3\n",
      "주호소: AVF malfunction\n",
      "비고: 월, 수, 금 HD > 금일 투석 못함\n",
      "\n",
      "--------------------------------------------\n",
      "\n",
      "■ 최근 21일 이내 해외 여행력 (국가명) : 없음\n",
      "\n",
      "-------------------------------------------\n",
      "\n",
      "■ 최근 7일 이내 COVID-19 확진력/증빙자료 여부 : 없음\n",
      "\n",
      "-------------------------------------------\n",
      "\n",
      "\n",
      "\n",
      "혈액검사하고 퇴원한 후 내일 시술 > 동의됨 \n",
      "\n",
      "검색 결과:  심계항진 / 불규칙한 심장박동 \n",
      "\n",
      "\n",
      "case  4\n",
      "주호소: Seizure like movement (zittering)\n",
      "비고: 119도착 당시 bp 70대로 NS 500cc 가량 loading\n",
      "\n",
      "5분 이내 upper eyeball deviation, 팔떨고 뒤로 넘어갔다고 함. \n",
      "\n",
      "검색 결과:  사지 약화 / 뇌졸중 증상 \n",
      "\n",
      "\n",
      "case  5\n",
      "주호소: Head trauma\n",
      "비고: 3/1 오른쪽 저리고 마비증상, 인지기능 저하 증상 발생 -> 현재 호전\n",
      "\n",
      "타병원 hemorrhage 소견 받고 내원,\n",
      "\n",
      "의뢰서 (-) 영상(+)\n",
      "\n",
      "--------------------------------------------\n",
      "\n",
      "■ 최근 21일 이내 해외 여행력 (국가명) : 없음\n",
      "\n",
      "-------------------------------------------\n",
      "\n",
      "■ 최근 7일 이내 COVID-19 확진력/증빙자료 여부 : 없음\n",
      "\n",
      "-------------------------------------------\n",
      "\n",
      "\n",
      "\n",
      "-------------------------------------------\n",
      "\n",
      "현재 본원 응급실 의료진이 다수의 중증 응급환자 처지 중에 있어 본원 응급실에서는 즉각적인 응급 검사 및 처치가 불가능한 상태임을 설명하였으며 타 병원 방문하여 진료, 검사를 통해 진단 및 처치 진행해야 함을 고지하였음.\n",
      "\n",
      "진단이 지연될 경우 미 확인된 의학적 상황으로 인한 환자의 상태 악화가 발생할 수 있음을 설명하였음. 환자 및 보호자 이와 같은 설명을 이해하였음을 확인함\n",
      "\n",
      "------------------------------------------- \n",
      "\n",
      "검색 결과:  사지 약화 / 뇌졸중 증상 \n",
      "\n",
      "\n"
     ]
    }
   ],
   "source": [
    "for i in range(len(chief_complaint_list)):\n",
    "    chief_complaint = chief_complaint_list[i]\n",
    "    additional_notes = additional_notes_list[i]\n",
    "    text = f\"주호소: {chief_complaint}\\n비고: {additional_notes}\"\n",
    "\n",
    "    search_result = db._similarity_search_with_relevance_scores(text, k=1)\n",
    "\n",
    "    print('case ', i + 1)\n",
    "    print(text, '\\n')\n",
    "    print('검색 결과: ', search_result[0][0].page_content, '\\n\\n')"
   ]
  },
  {
   "cell_type": "code",
   "execution_count": null,
   "id": "c567f601",
   "metadata": {
    "id": "c567f601"
   },
   "outputs": [],
   "source": []
  },
  {
   "cell_type": "markdown",
   "id": "aa025248",
   "metadata": {
    "id": "aa025248"
   },
   "source": [
    "### 테스트2: 주호소와 비고를 그대로 사용하여 vector DB에서 semantic search (top k) -> LLM이 가장 적절한 1개 선택"
   ]
  },
  {
   "cell_type": "code",
   "execution_count": 31,
   "id": "dTABNXGpPrDY",
   "metadata": {
    "colab": {
     "base_uri": "https://localhost:8080/"
    },
    "executionInfo": {
     "elapsed": 938,
     "status": "ok",
     "timestamp": 1744336853457,
     "user": {
      "displayName": "김한재",
      "userId": "16302250328262472141"
     },
     "user_tz": -540
    },
    "id": "dTABNXGpPrDY",
    "outputId": "05f1caa3-a3ae-4a31-d535-fcd394740642"
   },
   "outputs": [
    {
     "name": "stdout",
     "output_type": "stream",
     "text": [
      "case  1\n",
      "주호소: Disorientated\n",
      "비고: flapping tremor(-) 2차병원 내원하여 검사 안내함. \n",
      "\n",
      "검색 결과:  ['사지 약화 / 뇌졸중 증상', '보행 장애 / 운동 실조 / 강직', '심정지(외상성)', '몸통을 포함한 다발성 외상 - 둔상', '심계항진 / 불규칙한 심장박동'] \n",
      "\n",
      "\n",
      "case  2\n",
      "주호소: Cough, Fever and chilling\n",
      "비고: fever upto 38.1\n",
      "\n",
      "4pm 캐롤에프 해열제 목용 후 내원함. \n",
      "\n",
      "검색 결과:  ['기침 / 코막힘', '저체온증', '상기도감염 증상 호소', '처방전 / 투약 문의', '환자의 안녕에 대한 고려 (학대, 방임)'] \n",
      "\n",
      "\n",
      "case  3\n",
      "주호소: AVF malfunction\n",
      "비고: 월, 수, 금 HD > 금일 투석 못함\n",
      "\n",
      "--------------------------------------------\n",
      "\n",
      "■ 최근 21일 이내 해외 여행력 (국가명) : 없음\n",
      "\n",
      "-------------------------------------------\n",
      "\n",
      "■ 최근 7일 이내 COVID-19 확진력/증빙자료 여부 : 없음\n",
      "\n",
      "-------------------------------------------\n",
      "\n",
      "\n",
      "\n",
      "혈액검사하고 퇴원한 후 내일 시술 > 동의됨 \n",
      "\n",
      "검색 결과:  ['심계항진 / 불규칙한 심장박동', '국소성 부종 / 발적', '환자의 안녕에 대한 고려 (학대, 방임)', '연하장애 / 연하곤란', '심정지(외상성)'] \n",
      "\n",
      "\n",
      "case  4\n",
      "주호소: Seizure like movement (zittering)\n",
      "비고: 119도착 당시 bp 70대로 NS 500cc 가량 loading\n",
      "\n",
      "5분 이내 upper eyeball deviation, 팔떨고 뒤로 넘어갔다고 함. \n",
      "\n",
      "검색 결과:  ['사지 약화 / 뇌졸중 증상', '심정지(외상성)', '심정지(비외상성)', '떨림', '보행 장애 / 운동 실조 / 강직'] \n",
      "\n",
      "\n",
      "case  5\n",
      "주호소: Head trauma\n",
      "비고: 3/1 오른쪽 저리고 마비증상, 인지기능 저하 증상 발생 -> 현재 호전\n",
      "\n",
      "타병원 hemorrhage 소견 받고 내원,\n",
      "\n",
      "의뢰서 (-) 영상(+)\n",
      "\n",
      "--------------------------------------------\n",
      "\n",
      "■ 최근 21일 이내 해외 여행력 (국가명) : 없음\n",
      "\n",
      "-------------------------------------------\n",
      "\n",
      "■ 최근 7일 이내 COVID-19 확진력/증빙자료 여부 : 없음\n",
      "\n",
      "-------------------------------------------\n",
      "\n",
      "\n",
      "\n",
      "-------------------------------------------\n",
      "\n",
      "현재 본원 응급실 의료진이 다수의 중증 응급환자 처지 중에 있어 본원 응급실에서는 즉각적인 응급 검사 및 처치가 불가능한 상태임을 설명하였으며 타 병원 방문하여 진료, 검사를 통해 진단 및 처치 진행해야 함을 고지하였음.\n",
      "\n",
      "진단이 지연될 경우 미 확인된 의학적 상황으로 인한 환자의 상태 악화가 발생할 수 있음을 설명하였음. 환자 및 보호자 이와 같은 설명을 이해하였음을 확인함\n",
      "\n",
      "------------------------------------------- \n",
      "\n",
      "검색 결과:  ['사지 약화 / 뇌졸중 증상', '몸통을 포함한 다발성 외상 - 관통상', '몸통을 포함한 다발성 외상 - 둔상', '혈변 / 흑색변', '환자의 안녕에 대한 고려 (학대, 방임)'] \n",
      "\n",
      "\n"
     ]
    }
   ],
   "source": [
    "for i in range(len(chief_complaint_list)):\n",
    "    chief_complaint = chief_complaint_list[i]\n",
    "    additional_notes = additional_notes_list[i]\n",
    "    text = f\"주호소: {chief_complaint}\\n비고: {additional_notes}\"\n",
    "\n",
    "    search_result = db._similarity_search_with_relevance_scores(text, k=5)\n",
    "    symptoms = [doc[0].page_content for doc in search_result]\n",
    "\n",
    "    print('case ', i + 1)\n",
    "    print(text, '\\n')\n",
    "    print('검색 결과: ', symptoms, '\\n\\n')"
   ]
  },
  {
   "cell_type": "code",
   "execution_count": null,
   "id": "0ff1da7e",
   "metadata": {
    "id": "0ff1da7e"
   },
   "outputs": [],
   "source": []
  },
  {
   "cell_type": "markdown",
   "id": "81f197a5",
   "metadata": {
    "id": "81f197a5"
   },
   "source": [
    "### 테스트 3: LLM으로 주호소 추출 (NER) -> vector DB에서 증상 semantic search"
   ]
  },
  {
   "cell_type": "code",
   "execution_count": 45,
   "id": "c-ofs7TZQu2F",
   "metadata": {
    "colab": {
     "base_uri": "https://localhost:8080/"
    },
    "executionInfo": {
     "elapsed": 9615,
     "status": "ok",
     "timestamp": 1744337222713,
     "user": {
      "displayName": "김한재",
      "userId": "16302250328262472141"
     },
     "user_tz": -540
    },
    "id": "c-ofs7TZQu2F",
    "outputId": "582af28e-176e-45b8-a2a8-fdd98f38ec21"
   },
   "outputs": [
    {
     "name": "stderr",
     "output_type": "stream",
     "text": [
      "/usr/local/lib/python3.11/dist-packages/huggingface_hub/utils/_deprecation.py:131: FutureWarning: 'post' (from 'huggingface_hub.inference._client') is deprecated and will be removed from version '0.31.0'. Making direct POST requests to the inference server is not supported anymore. Please use task methods instead (e.g. `InferenceClient.chat_completion`). If your use case is not supported, please open an issue in https://github.com/huggingface/huggingface_hub.\n",
      "  warnings.warn(warning_message, FutureWarning)\n"
     ]
    },
    {
     "name": "stdout",
     "output_type": "stream",
     "text": [
      "case  1\n",
      "주호소: Disorientated\n",
      "비고: flapping tremor(-) 2차병원 내원하여 검사 안내함. \n",
      "\n",
      "엔티티:  Disorientated, flapping tremor \n",
      "\n",
      "검색 결과:  ['사지 약화 / 뇌졸중 증상', '보행 장애 / 운동 실조 / 강직', '심정지(외상성)', '몸통을 포함한 다발성 외상 - 둔상', '심계항진 / 불규칙한 심장박동'] \n",
      "\n",
      "\n"
     ]
    },
    {
     "name": "stderr",
     "output_type": "stream",
     "text": [
      "/usr/local/lib/python3.11/dist-packages/huggingface_hub/utils/_deprecation.py:131: FutureWarning: 'post' (from 'huggingface_hub.inference._client') is deprecated and will be removed from version '0.31.0'. Making direct POST requests to the inference server is not supported anymore. Please use task methods instead (e.g. `InferenceClient.chat_completion`). If your use case is not supported, please open an issue in https://github.com/huggingface/huggingface_hub.\n",
      "  warnings.warn(warning_message, FutureWarning)\n"
     ]
    },
    {
     "name": "stdout",
     "output_type": "stream",
     "text": [
      "case  2\n",
      "주호소: Cough, Fever and chilling\n",
      "비고: fever upto 38.1\n",
      "\n",
      "4pm 캐롤에프 해열제 목용 후 내원함. \n",
      "\n",
      "엔티티:  Cough, Fever, Chilling, Fever \n",
      "\n",
      "(Note: I've kept the exact text as it appears in the original note without any modifications) \n",
      "\n",
      "검색 결과:  ['기침 / 코막힘', '저체온증', '상기도감염 증상 호소', '처방전 / 투약 문의', '환자의 안녕에 대한 고려 (학대, 방임)'] \n",
      "\n",
      "\n"
     ]
    },
    {
     "name": "stderr",
     "output_type": "stream",
     "text": [
      "/usr/local/lib/python3.11/dist-packages/huggingface_hub/utils/_deprecation.py:131: FutureWarning: 'post' (from 'huggingface_hub.inference._client') is deprecated and will be removed from version '0.31.0'. Making direct POST requests to the inference server is not supported anymore. Please use task methods instead (e.g. `InferenceClient.chat_completion`). If your use case is not supported, please open an issue in https://github.com/huggingface/huggingface_hub.\n",
      "  warnings.warn(warning_message, FutureWarning)\n"
     ]
    },
    {
     "name": "stdout",
     "output_type": "stream",
     "text": [
      "case  3\n",
      "주호소: AVF malfunction\n",
      "비고: 월, 수, 금 HD > 금일 투석 못함\n",
      "\n",
      "--------------------------------------------\n",
      "\n",
      "■ 최근 21일 이내 해외 여행력 (국가명) : 없음\n",
      "\n",
      "-------------------------------------------\n",
      "\n",
      "■ 최근 7일 이내 COVID-19 확진력/증빙자료 여부 : 없음\n",
      "\n",
      "-------------------------------------------\n",
      "\n",
      "\n",
      "\n",
      "혈액검사하고 퇴원한 후 내일 시술 > 동의됨 \n",
      "\n",
      "엔티티:  AVF malfunction \n",
      "\n",
      "검색 결과:  ['심계항진 / 불규칙한 심장박동', '국소성 부종 / 발적', '환자의 안녕에 대한 고려 (학대, 방임)', '연하장애 / 연하곤란', '심정지(외상성)'] \n",
      "\n",
      "\n"
     ]
    },
    {
     "name": "stderr",
     "output_type": "stream",
     "text": [
      "/usr/local/lib/python3.11/dist-packages/huggingface_hub/utils/_deprecation.py:131: FutureWarning: 'post' (from 'huggingface_hub.inference._client') is deprecated and will be removed from version '0.31.0'. Making direct POST requests to the inference server is not supported anymore. Please use task methods instead (e.g. `InferenceClient.chat_completion`). If your use case is not supported, please open an issue in https://github.com/huggingface/huggingface_hub.\n",
      "  warnings.warn(warning_message, FutureWarning)\n"
     ]
    },
    {
     "name": "stdout",
     "output_type": "stream",
     "text": [
      "case  4\n",
      "주호소: Seizure like movement (zittering)\n",
      "비고: 119도착 당시 bp 70대로 NS 500cc 가량 loading\n",
      "\n",
      "5분 이내 upper eyeball deviation, 팔떨고 뒤로 넘어갔다고 함. \n",
      "\n",
      "엔티티:  Seizure, zittering, palpitation is not present but \"팔떨고\" which means \"shaking or trembling of the arms\" could imply a seizure like movement, 70, NS \n",
      "\n",
      "Note: I did not find any information related to 'NS' in medical context. It might be an abbreviation used in the specific hospital or region that I am not aware of. \n",
      "\n",
      "검색 결과:  ['사지 약화 / 뇌졸중 증상', '심정지(외상성)', '심정지(비외상성)', '떨림', '보행 장애 / 운동 실조 / 강직'] \n",
      "\n",
      "\n",
      "case  5\n",
      "주호소: Head trauma\n",
      "비고: 3/1 오른쪽 저리고 마비증상, 인지기능 저하 증상 발생 -> 현재 호전\n",
      "\n",
      "타병원 hemorrhage 소견 받고 내원,\n",
      "\n",
      "의뢰서 (-) 영상(+)\n",
      "\n",
      "--------------------------------------------\n",
      "\n",
      "■ 최근 21일 이내 해외 여행력 (국가명) : 없음\n",
      "\n",
      "-------------------------------------------\n",
      "\n",
      "■ 최근 7일 이내 COVID-19 확진력/증빙자료 여부 : 없음\n",
      "\n",
      "-------------------------------------------\n",
      "\n",
      "\n",
      "\n",
      "-------------------------------------------\n",
      "\n",
      "현재 본원 응급실 의료진이 다수의 중증 응급환자 처지 중에 있어 본원 응급실에서는 즉각적인 응급 검사 및 처치가 불가능한 상태임을 설명하였으며 타 병원 방문하여 진료, 검사를 통해 진단 및 처치 진행해야 함을 고지하였음.\n",
      "\n",
      "진단이 지연될 경우 미 확인된 의학적 상황으로 인한 환자의 상태 악화가 발생할 수 있음을 설명하였음. 환자 및 보호자 이와 같은 설명을 이해하였음을 확인함\n",
      "\n",
      "------------------------------------------- \n",
      "\n",
      "엔티티:  Head trauma, 오른쪽 저리고 마비증상, 인지기능 저하 증상, hemorrhage \n",
      "\n",
      "검색 결과:  ['사지 약화 / 뇌졸중 증상', '몸통을 포함한 다발성 외상 - 관통상', '몸통을 포함한 다발성 외상 - 둔상', '혈변 / 흑색변', '환자의 안녕에 대한 고려 (학대, 방임)'] \n",
      "\n",
      "\n"
     ]
    },
    {
     "name": "stderr",
     "output_type": "stream",
     "text": [
      "/usr/local/lib/python3.11/dist-packages/huggingface_hub/utils/_deprecation.py:131: FutureWarning: 'post' (from 'huggingface_hub.inference._client') is deprecated and will be removed from version '0.31.0'. Making direct POST requests to the inference server is not supported anymore. Please use task methods instead (e.g. `InferenceClient.chat_completion`). If your use case is not supported, please open an issue in https://github.com/huggingface/huggingface_hub.\n",
      "  warnings.warn(warning_message, FutureWarning)\n"
     ]
    }
   ],
   "source": [
    "for i in range(len(chief_complaint_list)):\n",
    "    chief_complaint = chief_complaint_list[i]\n",
    "    additional_notes = additional_notes_list[i]\n",
    "    text = f\"주호소: {chief_complaint}\\n비고: {additional_notes}\"\n",
    "\n",
    "    entities = chain_NER.invoke({\"chief_complaint\": chief_complaint, \"additional_notes\": additional_notes})\n",
    "\n",
    "    search_result = db._similarity_search_with_relevance_scores(text, k=5)\n",
    "    symptoms = [doc[0].page_content for doc in search_result]\n",
    "\n",
    "    print('case ', i + 1)\n",
    "    print(text, '\\n')\n",
    "    print('엔티티: ', entities, '\\n')\n",
    "    print('검색 결과: ', symptoms, '\\n\\n')"
   ]
  },
  {
   "cell_type": "code",
   "execution_count": null,
   "id": "8f0884f1",
   "metadata": {
    "id": "8f0884f1"
   },
   "outputs": [],
   "source": []
  },
  {
   "cell_type": "markdown",
   "id": "45897475",
   "metadata": {
    "id": "45897475"
   },
   "source": [
    "### 테스트 4: LLM으로 바로 주증상 선택"
   ]
  },
  {
   "cell_type": "code",
   "execution_count": 46,
   "id": "a8d7e78e",
   "metadata": {
    "colab": {
     "base_uri": "https://localhost:8080/"
    },
    "executionInfo": {
     "elapsed": 6751,
     "status": "ok",
     "timestamp": 1744337231093,
     "user": {
      "displayName": "김한재",
      "userId": "16302250328262472141"
     },
     "user_tz": -540
    },
    "id": "a8d7e78e",
    "outputId": "098a419d-2aec-44ab-95d0-75f033c92e59"
   },
   "outputs": [
    {
     "name": "stdout",
     "output_type": "stream",
     "text": [
      "case  1\n",
      "주호소: Disorientated\n",
      "비고: flapping tremor(-) 2차병원 내원하여 검사 안내함. \n",
      "\n",
      "LLM 추론 결과:  떨림 \n",
      "\n",
      "\n",
      "case  2\n",
      "주호소: Cough, Fever and chilling\n",
      "비고: fever upto 38.1\n",
      "\n",
      "4pm 캐롤에프 해열제 목용 후 내원함. \n",
      "\n",
      "LLM 추론 결과:  기침 / 코막힘 \n",
      "\n",
      "\n",
      "case  3\n",
      "주호소: AVF malfunction\n",
      "비고: 월, 수, 금 HD > 금일 투석 못함\n",
      "\n",
      "--------------------------------------------\n",
      "\n",
      "■ 최근 21일 이내 해외 여행력 (국가명) : 없음\n",
      "\n",
      "-------------------------------------------\n",
      "\n",
      "■ 최근 7일 이내 COVID-19 확진력/증빙자료 여부 : 없음\n",
      "\n",
      "-------------------------------------------\n",
      "\n",
      "\n",
      "\n",
      "혈액검사하고 퇴원한 후 내일 시술 > 동의됨 \n",
      "\n",
      "LLM 추론 결과:  AVF malfunction \n",
      "\n",
      "\n",
      "case  4\n",
      "주호소: Seizure like movement (zittering)\n",
      "비고: 119도착 당시 bp 70대로 NS 500cc 가량 loading\n",
      "\n",
      "5분 이내 upper eyeball deviation, 팔떨고 뒤로 넘어갔다고 함. \n",
      "\n",
      "LLM 추론 결과:  떨림 \n",
      "\n",
      "\n",
      "case  5\n",
      "주호소: Head trauma\n",
      "비고: 3/1 오른쪽 저리고 마비증상, 인지기능 저하 증상 발생 -> 현재 호전\n",
      "\n",
      "타병원 hemorrhage 소견 받고 내원,\n",
      "\n",
      "의뢰서 (-) 영상(+)\n",
      "\n",
      "--------------------------------------------\n",
      "\n",
      "■ 최근 21일 이내 해외 여행력 (국가명) : 없음\n",
      "\n",
      "-------------------------------------------\n",
      "\n",
      "■ 최근 7일 이내 COVID-19 확진력/증빙자료 여부 : 없음\n",
      "\n",
      "-------------------------------------------\n",
      "\n",
      "\n",
      "\n",
      "-------------------------------------------\n",
      "\n",
      "현재 본원 응급실 의료진이 다수의 중증 응급환자 처지 중에 있어 본원 응급실에서는 즉각적인 응급 검사 및 처치가 불가능한 상태임을 설명하였으며 타 병원 방문하여 진료, 검사를 통해 진단 및 처치 진행해야 함을 고지하였음.\n",
      "\n",
      "진단이 지연될 경우 미 확인된 의학적 상황으로 인한 환자의 상태 악화가 발생할 수 있음을 설명하였음. 환자 및 보호자 이와 같은 설명을 이해하였음을 확인함\n",
      "\n",
      "------------------------------------------- \n",
      "\n",
      "LLM 추론 결과:  눈의 외상 \n",
      "\n",
      "\n"
     ]
    }
   ],
   "source": [
    "for i in range(len(chief_complaint_list)):\n",
    "    chief_complaint = chief_complaint_list[i]\n",
    "    additional_notes = additional_notes_list[i]\n",
    "    text = f\"주호소: {chief_complaint}\\n비고: {additional_notes}\"\n",
    "\n",
    "    symptoms = chain_symptom.invoke({\n",
    "        \"chief_complaint\": chief_complaint,\n",
    "        \"additional_notes\": additional_notes,\n",
    "        \"possible_symptoms\": possible_symptoms\n",
    "    })\n",
    "\n",
    "    print('case ', i + 1)\n",
    "    print(text, '\\n')\n",
    "    print('LLM 추론 결과: ', symptoms, '\\n\\n')"
   ]
  },
  {
   "cell_type": "code",
   "execution_count": null,
   "id": "14b3e886",
   "metadata": {
    "id": "14b3e886"
   },
   "outputs": [],
   "source": []
  },
  {
   "cell_type": "markdown",
   "id": "4630c557",
   "metadata": {
    "id": "4630c557"
   },
   "source": [
    "### 테스트5: LLM으로 주호소 추출 (NER) → 주호소 참고하여 LLM으로 증상 선택"
   ]
  },
  {
   "cell_type": "code",
   "execution_count": 47,
   "id": "0lHBnlCEX_3B",
   "metadata": {
    "colab": {
     "base_uri": "https://localhost:8080/"
    },
    "executionInfo": {
     "elapsed": 10251,
     "status": "ok",
     "timestamp": 1744337241345,
     "user": {
      "displayName": "김한재",
      "userId": "16302250328262472141"
     },
     "user_tz": -540
    },
    "id": "0lHBnlCEX_3B",
    "outputId": "51d22bd6-21f7-40f5-a4f5-6339faaf7ae2"
   },
   "outputs": [
    {
     "name": "stdout",
     "output_type": "stream",
     "text": [
      "case  1\n",
      "주호소: Disorientated\n",
      "비고: flapping tremor(-) 2차병원 내원하여 검사 안내함. \n",
      "\n",
      "엔티티:  Disoriented, Flapping tremor \n",
      "\n",
      "LLM 추론 결과:  기괴한 행동 \n",
      "\n",
      "\n",
      "case  2\n",
      "주호소: Cough, Fever and chilling\n",
      "비고: fever upto 38.1\n",
      "\n",
      "4pm 캐롤에프 해열제 목용 후 내원함. \n",
      "\n",
      "엔티티:  Fever, Chilling, Cough \n",
      "\n",
      "LLM 추론 결과:  기침 / 코막힘 \n",
      "\n",
      "\n",
      "case  3\n",
      "주호소: AVF malfunction\n",
      "비고: 월, 수, 금 HD > 금일 투석 못함\n",
      "\n",
      "--------------------------------------------\n",
      "\n",
      "■ 최근 21일 이내 해외 여행력 (국가명) : 없음\n",
      "\n",
      "-------------------------------------------\n",
      "\n",
      "■ 최근 7일 이내 COVID-19 확진력/증빙자료 여부 : 없음\n",
      "\n",
      "-------------------------------------------\n",
      "\n",
      "\n",
      "\n",
      "혈액검사하고 퇴원한 후 내일 시술 > 동의됨 \n",
      "\n",
      "엔티티:  AVF malfunction, HD, 투석, 해외 여행력, COVID-19 \n",
      "\n",
      "LLM 추론 결과:  고혈압 \n",
      "\n",
      "\n",
      "case  4\n",
      "주호소: Seizure like movement (zittering)\n",
      "비고: 119도착 당시 bp 70대로 NS 500cc 가량 loading\n",
      "\n",
      "5분 이내 upper eyeball deviation, 팔떨고 뒤로 넘어갔다고 함. \n",
      "\n",
      "엔티티:  Seizure, Zittering, BP (Blood Pressure) 70, Upper Eyeball Deviation, 팔떨기 (Palsy) \n",
      "\n",
      "LLM 추론 결과:  발작 \n",
      "\n",
      "\n",
      "case  5\n",
      "주호소: Head trauma\n",
      "비고: 3/1 오른쪽 저리고 마비증상, 인지기능 저하 증상 발생 -> 현재 호전\n",
      "\n",
      "타병원 hemorrhage 소견 받고 내원,\n",
      "\n",
      "의뢰서 (-) 영상(+)\n",
      "\n",
      "--------------------------------------------\n",
      "\n",
      "■ 최근 21일 이내 해외 여행력 (국가명) : 없음\n",
      "\n",
      "-------------------------------------------\n",
      "\n",
      "■ 최근 7일 이내 COVID-19 확진력/증빙자료 여부 : 없음\n",
      "\n",
      "-------------------------------------------\n",
      "\n",
      "\n",
      "\n",
      "-------------------------------------------\n",
      "\n",
      "현재 본원 응급실 의료진이 다수의 중증 응급환자 처지 중에 있어 본원 응급실에서는 즉각적인 응급 검사 및 처치가 불가능한 상태임을 설명하였으며 타 병원 방문하여 진료, 검사를 통해 진단 및 처치 진행해야 함을 고지하였음.\n",
      "\n",
      "진단이 지연될 경우 미 확인된 의학적 상황으로 인한 환자의 상태 악화가 발생할 수 있음을 설명하였음. 환자 및 보호자 이와 같은 설명을 이해하였음을 확인함\n",
      "\n",
      "------------------------------------------- \n",
      "\n",
      "엔티티:  Head trauma, 오른쪽 저리고 마비증상, 인지기능 저하 증상 \n",
      "\n",
      "LLM 추론 결과:  눈 통증 \n",
      "\n",
      "\n"
     ]
    }
   ],
   "source": [
    "for i in range(len(chief_complaint_list)):\n",
    "    chief_complaint = chief_complaint_list[i]\n",
    "    additional_notes = additional_notes_list[i]\n",
    "    text = f\"주호소: {chief_complaint}\\n비고: {additional_notes}\"\n",
    "\n",
    "    entities = chain_NER.invoke({\"chief_complaint\": chief_complaint, \"additional_notes\": additional_notes})\n",
    "\n",
    "    symptoms = chain_symptom.invoke({\n",
    "        \"chief_complaint\": entities,\n",
    "        \"additional_notes\": 'None',\n",
    "        \"possible_symptoms\": possible_symptoms\n",
    "    })\n",
    "\n",
    "    print('case ', i + 1)\n",
    "    print(text, '\\n')\n",
    "    print('엔티티: ', entities, '\\n')\n",
    "    print('LLM 추론 결과: ', symptoms, '\\n\\n')"
   ]
  },
  {
   "cell_type": "code",
   "execution_count": null,
   "id": "6HgqG2s3pdbm",
   "metadata": {
    "id": "6HgqG2s3pdbm"
   },
   "outputs": [],
   "source": []
  },
  {
   "cell_type": "markdown",
   "id": "rMlI2dmPpinc",
   "metadata": {
    "id": "rMlI2dmPpinc"
   },
   "source": [
    "### 챗지피티 결과와 비교"
   ]
  },
  {
   "cell_type": "markdown",
   "id": "2ajI1q8nVY_v",
   "metadata": {
    "id": "2ajI1q8nVY_v"
   },
   "source": [
    "case 1: 의식 수준의 변화  \n",
    "case 2: 상기도감염 증상 호소  \n",
    "case 3: 의료 장비 문제  \n",
    "case 4: 발작  \n",
    "case 5: 두부 손상"
   ]
  },
  {
   "cell_type": "code",
   "execution_count": null,
   "id": "Q3OHB1t5VZUz",
   "metadata": {
    "id": "Q3OHB1t5VZUz"
   },
   "outputs": [],
   "source": []
  },
  {
   "cell_type": "markdown",
   "id": "xJYC2V47pp2H",
   "metadata": {
    "id": "xJYC2V47pp2H"
   },
   "source": [
    "### 테스트6: LLM으로 주증상 선택 (알아서 CoT)"
   ]
  },
  {
   "cell_type": "code",
   "execution_count": 48,
   "id": "N_3q4ZCxv1GR",
   "metadata": {
    "colab": {
     "base_uri": "https://localhost:8080/"
    },
    "executionInfo": {
     "elapsed": 50987,
     "status": "ok",
     "timestamp": 1744337292334,
     "user": {
      "displayName": "김한재",
      "userId": "16302250328262472141"
     },
     "user_tz": -540
    },
    "id": "N_3q4ZCxv1GR",
    "outputId": "8b8e64ac-6ec4-4d09-ab68-71f76dcec734"
   },
   "outputs": [
    {
     "name": "stdout",
     "output_type": "stream",
     "text": [
      "case  1\n",
      "주호소: Disorientated\n",
      "비고: flapping tremor(-) 2차병원 내원하여 검사 안내함. \n",
      "\n",
      "LLM 추론 결과:  To determine the single symptom that best matches the given information, I will carefully analyze the provided details:\n",
      "\n",
      "<Chief Complaint>: Disorientated\n",
      "<Additional Notes>: flapping tremor(-) 2차병원 내원하여 검사 안내함.\n",
      "\n",
      "From the <Chief Complaint>, it is clear that the patient is experiencing disorientation. The additional notes mention a \"flapping tremor,\" which is often associated with neurological conditions, specifically Alzheimer's disease or other forms of dementia. However, given the presence of a flapping tremor, I will focus on symptoms related to this specific finding.\n",
      "\n",
      "Step 1: Reviewing possible symptoms that match the description:\n",
      "- The symptom \"기괴한 행동\" translates to \"Abnormal behavior.\" This is not directly related to disorientation or the flapping tremor.\n",
      "- However, another symptom stands out, \"기억상실\" which means \"Memory loss,\" but this doesn't exactly match the provided symptoms.\n",
      "\n",
      "Step 2: Re-examining possible symptoms:\n",
      "Upon re-examination, I notice that one of the symptoms matches closely with the description in the additional notes. The phrase \"flapping tremor\" is a specific symptom that can be associated with certain medical conditions.\n",
      "\n",
      "\n",
      "Step 3: Identifying the best match:\n",
      "Given the information provided and the emphasis on the flapping tremor, it seems that the best matching symptom from the list would be:\n",
      "\n",
      "\n",
      " FINAL ANSWER: 떨림 (This translates to \"Trembling\" or more specifically in this context, \"Flapping Tremor\") \n",
      "\n",
      "\n",
      "case  2\n",
      "주호소: Cough, Fever and chilling\n",
      "비고: fever upto 38.1\n",
      "\n",
      "4pm 캐롤에프 해열제 목용 후 내원함. \n",
      "\n",
      "LLM 추론 결과:  To determine the single symptom from the <Possible Symptoms> that best matches the information given, I'll follow these steps:\n",
      "\n",
      "1. Analyze the Chief Complaint: The patient is complaining of a cough, fever, and chilling.\n",
      "2. Note the Additional Information:\n",
      "\t* Fever up to 38.1°C (this suggests an elevated body temperature)\n",
      "\t* The patient visited the hospital after taking a medication (fever reducer) at 4 pm\n",
      "3. Look for matching symptoms in the <Possible Symptoms> list:\n",
      "\n",
      "From the Chief Complaint and Additional Notes, I notice that the fever is a prominent symptom. Now, let's find a match among the possible symptoms.\n",
      "\n",
      "Here are my thought process steps:\n",
      "\n",
      "* \"기침 / 코막힘\" (Cough,  congestion) seems relevant due to cough in the Chief Complaint.\n",
      "* However, the presence of high fever might indicate an infection or another condition not directly related to respiratory issues. Let's explore other options.\n",
      "* \"열상 / 천공\" (Fever, heat stroke) is a match for the elevated body temperature and the term \"chilling.\"\n",
      "4. Based on this analysis, I conclude that the best matching symptom from the list is:\n",
      "\n",
      "<FINAL ANSWER: 열상 / 천공> \n",
      "\n",
      "\n",
      "case  3\n",
      "주호소: AVF malfunction\n",
      "비고: 월, 수, 금 HD > 금일 투석 못함\n",
      "\n",
      "--------------------------------------------\n",
      "\n",
      "■ 최근 21일 이내 해외 여행력 (국가명) : 없음\n",
      "\n",
      "-------------------------------------------\n",
      "\n",
      "■ 최근 7일 이내 COVID-19 확진력/증빙자료 여부 : 없음\n",
      "\n",
      "-------------------------------------------\n",
      "\n",
      "\n",
      "\n",
      "혈액검사하고 퇴원한 후 내일 시술 > 동의됨 \n",
      "\n",
      "LLM 추론 결과:  To determine the single symptom from the <Possible Symptoms> that best matches the information given, I will carefully analyze the provided <Chief Complaint> and <Additional Notes>.\n",
      "\n",
      "The <Chief Complaint> is \"AVF malfunction\", which suggests a problem with an arteriovenous fistula (AVF). An AVF is a medical device used to connect an artery and a vein in patients undergoing dialysis.\n",
      "\n",
      "Looking at the <Additional Notes>, I see that the patient had blood tests done and was discharged, but tomorrow they are scheduled for a procedure. There's also a mention of the patient not being able to undergo dialysis today, which implies that the AVF malfunction is related to the patient's dialysis treatment.\n",
      "\n",
      "Considering these details, the symptom that best matches this situation is:\n",
      "\n",
      "**<FINAL ANSWER: 객혈>**\n",
      "\n",
      "Explanation:\n",
      "객혈 (haemodialysis-related symptoms) is a possible match because the patient has an AVF malfunction and was unable to undergo dialysis today. The patient's upcoming procedure might be related to addressing this issue, indicating that the AVF malfunction is likely causing problems with their hemodialysis treatment.\n",
      "\n",
      "Note: The other options don't seem to directly relate to the AVF malfunction or the patient's situation described in the <Additional Notes>. \n",
      "\n",
      "\n",
      "case  4\n",
      "주호소: Seizure like movement (zittering)\n",
      "비고: 119도착 당시 bp 70대로 NS 500cc 가량 loading\n",
      "\n",
      "5분 이내 upper eyeball deviation, 팔떨고 뒤로 넘어갔다고 함. \n",
      "\n",
      "LLM 추론 결과:  To determine the best matching symptom from the <Possible Symptoms> list, let's break down the information provided in the <Chief Complaint> and <Additional Notes>.\n",
      "\n",
      "**Step 1: Identify key elements in the Chief Complaint**\n",
      "The patient reports \"Seizure like movement (zittering)\" as their primary complaint. This suggests a neurological or seizure-related symptom.\n",
      "\n",
      "**Step 2: Analyze Additional Notes for relevant information**\n",
      "The patient's blood pressure was 70 at arrival, and they received an NS 500cc fluid load. Within 5 minutes, the patient had upper eyeball deviation and fell to the side, indicating possible convulsive or seizure-like activity.\n",
      "\n",
      "**Step 3: Match symptoms from Possible Symptoms list**\n",
      "Considering the neurological nature of the complaint and the additional notes, we should look for a symptom related to seizures or abnormal brain activity. The key term \"발작\" in Korean means \"seizure,\" which is likely the most relevant symptom based on the information provided.\n",
      "\n",
      "**Step 4: Determine if other symptoms are more closely related**\n",
      "Upon reviewing the list again, no other symptoms directly mention seizure-like movements or activity that matches the description as closely as \"발작.\"\n",
      "\n",
      "**FINAL ANSWER:** <FINAL ANSWER: 발작> \n",
      "\n",
      "\n",
      "case  5\n",
      "주호소: Head trauma\n",
      "비고: 3/1 오른쪽 저리고 마비증상, 인지기능 저하 증상 발생 -> 현재 호전\n",
      "\n",
      "타병원 hemorrhage 소견 받고 내원,\n",
      "\n",
      "의뢰서 (-) 영상(+)\n",
      "\n",
      "--------------------------------------------\n",
      "\n",
      "■ 최근 21일 이내 해외 여행력 (국가명) : 없음\n",
      "\n",
      "-------------------------------------------\n",
      "\n",
      "■ 최근 7일 이내 COVID-19 확진력/증빙자료 여부 : 없음\n",
      "\n",
      "-------------------------------------------\n",
      "\n",
      "\n",
      "\n",
      "-------------------------------------------\n",
      "\n",
      "현재 본원 응급실 의료진이 다수의 중증 응급환자 처지 중에 있어 본원 응급실에서는 즉각적인 응급 검사 및 처치가 불가능한 상태임을 설명하였으며 타 병원 방문하여 진료, 검사를 통해 진단 및 처치 진행해야 함을 고지하였음.\n",
      "\n",
      "진단이 지연될 경우 미 확인된 의학적 상황으로 인한 환자의 상태 악화가 발생할 수 있음을 설명하였음. 환자 및 보호자 이와 같은 설명을 이해하였음을 확인함\n",
      "\n",
      "------------------------------------------- \n",
      "\n",
      "LLM 추론 결과:  To determine the single symptom from the <Possible Symptoms> that best matches the information given, let's break down the key points from the <Chief Complaint> and <Additional Notes>.\n",
      "\n",
      "1. **Head trauma**: The patient has experienced head trauma.\n",
      "2. **Right-sided weakness (저리고 마비증상)**: The patient is experiencing right-sided weakness.\n",
      "3. **Cognitive impairment (인지기능 저하 증상)**: The patient is showing signs of cognitive impairment.\n",
      "\n",
      "Considering these points, the relevant information from <Possible Symptoms> that matches the head trauma aspect and specific symptoms mentioned in the notes is:\n",
      "\n",
      "- 두부 손상\n",
      "\n",
      "Reasoning step-by-step:\n",
      "\n",
      "1. Head trauma itself is a broad term and could match several symptoms, but it's essential to consider the other given symptoms.\n",
      "2. The mention of right-sided weakness specifically points towards neurological issues, which are directly related to the brain or spinal cord.\n",
      "3. Cognitive impairment further supports that this is not just a physical injury but also has implications for the patient's mental health.\n",
      "\n",
      "From these considerations, **두부 손상** (which translates to \"cranial fracture\" but in this context is more accurately described as \"brain/head trauma\") does not perfectly fit the description of the symptoms mentioned. However, given the options and considering the severity of the situation described, it seems that the closest symptom is indeed related to head/brain injuries.\n",
      "\n",
      "However, re-evaluating for a better match:\n",
      "\n",
      "The patient experienced **head trauma**, showed signs of **right-sided weakness**, and had cognitive impairment. The most accurate match from <Possible Symptoms> would be:\n",
      "\n",
      "<FINAL ANSWER: 두통> \n",
      "\n",
      "\n"
     ]
    }
   ],
   "source": [
    "for i in range(len(chief_complaint_list)):\n",
    "    chief_complaint = chief_complaint_list[i]\n",
    "    additional_notes = additional_notes_list[i]\n",
    "    text = f\"주호소: {chief_complaint}\\n비고: {additional_notes}\"\n",
    "\n",
    "    symptoms = chain_symptom_self_CoT.invoke({\n",
    "        \"chief_complaint\": chief_complaint,\n",
    "        \"additional_notes\": additional_notes,\n",
    "        \"possible_symptoms\": possible_symptoms\n",
    "    })\n",
    "\n",
    "    print('case ', i + 1)\n",
    "    print(text, '\\n')\n",
    "    print('LLM 추론 결과: ', symptoms, '\\n\\n')"
   ]
  },
  {
   "cell_type": "markdown",
   "id": "4FQjQGjiwKcE",
   "metadata": {
    "id": "4FQjQGjiwKcE"
   },
   "source": [
    "### 테스트7: LLM으로 주증상 선택 (CoT 단계 지시)\n",
    "#### 1. 후보 선택\n",
    "#### 2. 최종 선택"
   ]
  },
  {
   "cell_type": "code",
   "execution_count": 49,
   "id": "JDmBSkVbwj2J",
   "metadata": {
    "colab": {
     "base_uri": "https://localhost:8080/"
    },
    "executionInfo": {
     "elapsed": 54494,
     "status": "ok",
     "timestamp": 1744337346836,
     "user": {
      "displayName": "김한재",
      "userId": "16302250328262472141"
     },
     "user_tz": -540
    },
    "id": "JDmBSkVbwj2J",
    "outputId": "b49c62c3-0931-494f-eae0-f256f69e6c57"
   },
   "outputs": [
    {
     "name": "stdout",
     "output_type": "stream",
     "text": [
      "case  1\n",
      "주호소: Disorientated\n",
      "비고: flapping tremor(-) 2차병원 내원하여 검사 안내함. \n",
      "\n",
      "LLM 추론 결과:  To determine the best-matching symptom from the <Possible Symptoms>, I will follow the steps outlined:\n",
      "\n",
      "**Step 1: Analyze Chief Complaint and Additional Notes**\n",
      "\n",
      "The patient's **Chief Complaint** is \"Disorientated\" which implies a problem with their sense of direction or orientation. The **Additional Notes** mention a flapping tremor, which suggests a neurological issue. \n",
      "\n",
      "**Step 2: Identify several potential candidates among the possible symptoms**\n",
      "\n",
      "Given the information from Step 1, several symptoms stand out as potential matches:\n",
      "- 기괴한 행동 (Abnormal behavior)\n",
      "- 기억상실 (Memory loss)\n",
      "- 기괴한 행동 seems to directly relate to disorientation and abnormal behavior, which could be inferred from a flapping tremor.\n",
      "\n",
      "**Step 3: Compare the candidates and select the most appropriate one as the final answer**\n",
      "\n",
      "Comparing these symptoms:\n",
      "- 기괴한 행동 (Abnormal behavior) matches both the disorientation and the unusual movement mentioned in the additional notes.\n",
      "- 기억상실 (Memory loss) could also relate to some of the patient's issues, but it doesn't directly tie into the flapping tremor mentioned.\n",
      "\n",
      "**Step 4: Re-examine your final answer**\n",
      "\n",
      "Upon re-evaluation, **기괴한 행동 (Abnormal behavior)** seems to be the most appropriate choice because it connects both disorientation and unusual physical movements like a flapping tremor, which are likely related neurological symptoms.\n",
      "\n",
      "Therefore, the best match from the <Possible Symptoms> based on the information given is:\n",
      "<FINAL ANSWER: 기괴한 행동> \n",
      "\n",
      "\n",
      "case  2\n",
      "주호소: Cough, Fever and chilling\n",
      "비고: fever upto 38.1\n",
      "\n",
      "4pm 캐롤에프 해열제 목용 후 내원함. \n",
      "\n",
      "LLM 추론 결과:  **Step 1: Analyze <Chief Complaint> and <Additional Notes>**\n",
      "The patient's chief complaint is \"Cough, Fever and chilling\" which indicates a respiratory and infectious issue. The additional notes mention fever up to 38.1°C after taking an anti-inflammatory medication at 4pm.\n",
      "\n",
      "**Step 2: Identify several potential candidates among the possible symptoms**\n",
      "From the list of <Possible Symptoms>, I can identify the following potential candidates:\n",
      "\n",
      "* 기침 / 코막힘 (Cough, 코막힘)\n",
      "* 열 (Fever)\n",
      "* 상기도감염 증상 호소 (Respiratory infection symptom)\n",
      "\n",
      "**Step 3: Compare the candidates and select the most appropriate one as the final answer**\n",
      "Considering the chief complaint and additional notes, I believe that \"기침 / 코막힘\" (Cough, 코막힘) is the most appropriate choice. The patient has a cough, which is a common symptom of respiratory infections.\n",
      "\n",
      "**Step 4: Re-examine my final answer**\n",
      "I have re-checked my answer and it seems to be correct. The other candidates are also plausible, but \"기침 / 코막힘\" (Cough, 코막힘) matches the patient's symptoms best.\n",
      "\n",
      "**FINAL ANSWER:** 기침 / 코막힘 \n",
      "\n",
      "\n",
      "case  3\n",
      "주호소: AVF malfunction\n",
      "비고: 월, 수, 금 HD > 금일 투석 못함\n",
      "\n",
      "--------------------------------------------\n",
      "\n",
      "■ 최근 21일 이내 해외 여행력 (국가명) : 없음\n",
      "\n",
      "-------------------------------------------\n",
      "\n",
      "■ 최근 7일 이내 COVID-19 확진력/증빙자료 여부 : 없음\n",
      "\n",
      "-------------------------------------------\n",
      "\n",
      "\n",
      "\n",
      "혈액검사하고 퇴원한 후 내일 시술 > 동의됨 \n",
      "\n",
      "LLM 추론 결과:  Step 1: Analyze <Chief Complaint> and <Additional Notes>\n",
      "The patient has an AVF malfunction, which is a vascular access problem. The additional notes mention that the patient had blood tests and was discharged, but will undergo another procedure tomorrow.\n",
      "\n",
      "Step 2: Identify several potential candidates among the possible symptoms.\n",
      "Based on the chief complaint of AVF malfunction, I can consider the following potential symptoms:\n",
      "- 고환 통증 / 부종 (Testicular pain/Tenderness)\n",
      "- 혈뇨 (Hematuria)\n",
      "\n",
      "However, considering that AVF is related to vascular access and there's no mention of any urological issues, I'll focus on a symptom more closely related to vascular or medical device issues.\n",
      "\n",
      "Step 3: Compare the candidates and select the most appropriate one as the final answer.\n",
      "Considering the information provided, the most relevant symptom seems to be:\n",
      "\n",
      "- 의료 장비 문제 (Medical equipment problem)\n",
      "\n",
      "This is because the patient's issue seems to be related to a malfunctioning AVF (vascular access) which could be considered under the broader category of medical equipment problems.\n",
      "\n",
      "Step 4: Re-examine my final answer.\n",
      "Given the information and focusing on vascular or medical device-related issues, I believe that:\n",
      "\n",
      "<FINAL ANSWER: 의료 장비 문제> \n",
      "\n",
      "\n",
      "case  4\n",
      "주호소: Seizure like movement (zittering)\n",
      "비고: 119도착 당시 bp 70대로 NS 500cc 가량 loading\n",
      "\n",
      "5분 이내 upper eyeball deviation, 팔떨고 뒤로 넘어갔다고 함. \n",
      "\n",
      "LLM 추론 결과:  I'll follow the instructions to determine the single symptom from the <Possible Symptoms> that best matches the given information.\n",
      "\n",
      "**Step 1: Analyze <Chief Complaint> and <Additional Notes>**\n",
      "\n",
      "The patient's chief complaint is \"Seizure like movement (zittering)\" and there are additional notes about a patient who arrived at the hospital with a blood pressure of 70, received a large amount of fluid, and within 5 minutes showed upper eyeball deviation and fell.\n",
      "\n",
      "**Step 2: Identify several potential candidates among the possible symptoms**\n",
      "\n",
      "Based on the chief complaint, I can identify some potential candidates:\n",
      "\n",
      "* 경증 및 비특이적 증상 호소 (mild and non-specific symptom)\n",
      "* 기괴한 행동 (abnormal behavior)\n",
      "* 떨림 (tremor)\n",
      "* 발작 (seizure)\n",
      "\n",
      "**Step 3: Compare the candidates and select the most appropriate one**\n",
      "\n",
      "Among these potential candidates, \"떨림\" (tremor) seems to be a direct match for the patient's chief complaint of \"Seizure like movement (zittering)\". While \"발작\" (seizure) is also relevant, it is more general than \"떨림\".\n",
      "\n",
      "**Step 4: Re-examine the final answer**\n",
      "\n",
      "Upon reviewing my previous step, I am confident that \"떨림\" is indeed the most appropriate symptom to match the given information.\n",
      "\n",
      "**FINAL ANSWER: 떨림** \n",
      "\n",
      "\n",
      "case  5\n",
      "주호소: Head trauma\n",
      "비고: 3/1 오른쪽 저리고 마비증상, 인지기능 저하 증상 발생 -> 현재 호전\n",
      "\n",
      "타병원 hemorrhage 소견 받고 내원,\n",
      "\n",
      "의뢰서 (-) 영상(+)\n",
      "\n",
      "--------------------------------------------\n",
      "\n",
      "■ 최근 21일 이내 해외 여행력 (국가명) : 없음\n",
      "\n",
      "-------------------------------------------\n",
      "\n",
      "■ 최근 7일 이내 COVID-19 확진력/증빙자료 여부 : 없음\n",
      "\n",
      "-------------------------------------------\n",
      "\n",
      "\n",
      "\n",
      "-------------------------------------------\n",
      "\n",
      "현재 본원 응급실 의료진이 다수의 중증 응급환자 처지 중에 있어 본원 응급실에서는 즉각적인 응급 검사 및 처치가 불가능한 상태임을 설명하였으며 타 병원 방문하여 진료, 검사를 통해 진단 및 처치 진행해야 함을 고지하였음.\n",
      "\n",
      "진단이 지연될 경우 미 확인된 의학적 상황으로 인한 환자의 상태 악화가 발생할 수 있음을 설명하였음. 환자 및 보호자 이와 같은 설명을 이해하였음을 확인함\n",
      "\n",
      "------------------------------------------- \n",
      "\n",
      "LLM 추론 결과:  Step 1: Analyze <Chief Complaint> and <Additional Notes>\n",
      "The patient has experienced a head trauma, which is the main complaint. The additional notes mention that the patient had a hemorrhage sign at another hospital and was referred to this one.\n",
      "\n",
      "Step 2: Identify several potential candidates among the possible symptoms.\n",
      "From the chief complaint of head trauma, potential candidates for the symptom are:\n",
      "- 두부 손상 (head trauma or cranial injury)\n",
      "- 두통 (headache)\n",
      "\n",
      "Other symptoms that could be related but not directly mentioned in the chief complaint are:\n",
      "- 목의 외상 (neck injury) \n",
      "- 눈의 외상 (eye injury)\n",
      "\n",
      "Step 3: Compare the candidates and select the most appropriate one as the final answer.\n",
      "Based on the chief complaint of head trauma, I will choose a symptom that is more specific to this condition. Among the options, '두부 손상' seems to be the most relevant.\n",
      "\n",
      "However, in reviewing other symptoms related to head trauma, I notice that '두통' could also be related as it's often associated with head injuries and hemorrhages.\n",
      "\n",
      "\n",
      "Step 4: Re-examine my final answer.\n",
      "Upon further consideration, '두통' (headache) is more directly related to the potential effects of a head trauma or hemorrhage. It is also mentioned in several cases where such medical conditions occur.\n",
      "\n",
      "FINAL ANSWER: 두통 \n",
      "\n",
      "\n"
     ]
    }
   ],
   "source": [
    "for i in range(len(chief_complaint_list)):\n",
    "    chief_complaint = chief_complaint_list[i]\n",
    "    additional_notes = additional_notes_list[i]\n",
    "    text = f\"주호소: {chief_complaint}\\n비고: {additional_notes}\"\n",
    "\n",
    "    symptoms = chain_symptom_instruct_CoT.invoke({\n",
    "        \"chief_complaint\": chief_complaint,\n",
    "        \"additional_notes\": additional_notes,\n",
    "        \"possible_symptoms\": possible_symptoms\n",
    "    })\n",
    "\n",
    "    print('case ', i + 1)\n",
    "    print(text, '\\n')\n",
    "    print('LLM 추론 결과: ', symptoms, '\\n\\n')"
   ]
  },
  {
   "cell_type": "markdown",
   "id": "fpiObDNSwkAe",
   "metadata": {
    "id": "fpiObDNSwkAe"
   },
   "source": [
    "### 테스트8: LLM으로 주증상 후보 선택 -> 해당 주증상들에 대한 설명 또는 예시 retrieve -> Few-shot으로 최종 주증상 선택"
   ]
  },
  {
   "cell_type": "code",
   "execution_count": null,
   "id": "YS02HNdXw2Uz",
   "metadata": {
    "id": "YS02HNdXw2Uz"
   },
   "outputs": [],
   "source": []
  },
  {
   "cell_type": "markdown",
   "id": "JrRX-LMbw3XK",
   "metadata": {
    "id": "JrRX-LMbw3XK"
   },
   "source": [
    "### 테스트9: LLM으로 주증상 후보 선택 (CoT) -> 해당 주증상들에 대한 설명 또는 예시 retrieve -> Few-shot으로 최종 주증상 선택 (CoT)"
   ]
  },
  {
   "cell_type": "code",
   "execution_count": null,
   "id": "n2gjr6hZyySZ",
   "metadata": {
    "id": "n2gjr6hZyySZ"
   },
   "outputs": [],
   "source": []
  }
 ],
 "metadata": {
  "accelerator": "GPU",
  "colab": {
   "gpuType": "T4",
   "provenance": []
  },
  "kernelspec": {
   "display_name": "Python 3",
   "name": "python3"
  },
  "language_info": {
   "codemirror_mode": {
    "name": "ipython",
    "version": 3
   },
   "file_extension": ".py",
   "mimetype": "text/x-python",
   "name": "python",
   "nbconvert_exporter": "python",
   "pygments_lexer": "ipython3",
   "version": "3.12.9"
  }
 },
 "nbformat": 4,
 "nbformat_minor": 5
}
