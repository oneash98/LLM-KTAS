{
 "cells": [
  {
   "cell_type": "code",
   "execution_count": 39,
   "id": "5f6fd875",
   "metadata": {},
   "outputs": [],
   "source": [
    "from langchain_huggingface.embeddings import HuggingFaceEndpointEmbeddings\n",
    "from langchain_huggingface import HuggingFaceEndpoint\n",
    "from huggingface_hub import login\n",
    "from dotenv import load_dotenv\n",
    "import os\n",
    "from langchain_community.vectorstores import FAISS\n",
    "from langchain_community.chat_models import ChatOllama\n",
    "from langchain_core.prompts import PromptTemplate\n",
    "from langchain_core.output_parsers import StrOutputParser\n",
    "\n",
    "load_dotenv()\n",
    "HF_API_TOKEN = os.environ[\"HF_API_TOKEN\"]"
   ]
  },
  {
   "cell_type": "code",
   "execution_count": 40,
   "id": "57688340",
   "metadata": {},
   "outputs": [],
   "source": [
    "hf_embeddings = HuggingFaceEndpointEmbeddings(\n",
    "    model=\"intfloat/multilingual-e5-large-instruct\",\n",
    "    # task = 'feature-extraction',\n",
    "    huggingfacehub_api_token=HF_API_TOKEN\n",
    ")"
   ]
  },
  {
   "cell_type": "code",
   "execution_count": 41,
   "id": "f845e5aa",
   "metadata": {},
   "outputs": [],
   "source": [
    "db = FAISS.load_local('db/KTAS_adult_faiss', hf_embeddings, allow_dangerous_deserialization=True)"
   ]
  },
  {
   "cell_type": "code",
   "execution_count": 42,
   "id": "9284fa33",
   "metadata": {},
   "outputs": [],
   "source": [
    "def get_considerations(search_result):\n",
    "    metadata = search_result[0][0].metadata\n",
    "    primary = metadata['primary']\n",
    "    secondary = metadata['secondary']\n",
    "\n",
    "    return primary, secondary"
   ]
  },
  {
   "cell_type": "code",
   "execution_count": 43,
   "id": "6b03671b",
   "metadata": {},
   "outputs": [],
   "source": [
    "llm = ChatOllama(model = \"llama3.1:8b-instruct-q4_K_M\")"
   ]
  },
  {
   "cell_type": "code",
   "execution_count": 44,
   "id": "489d8811",
   "metadata": {},
   "outputs": [],
   "source": [
    "output_parser = StrOutputParser()"
   ]
  },
  {
   "cell_type": "code",
   "execution_count": 45,
   "id": "c574c82b",
   "metadata": {},
   "outputs": [
    {
     "data": {
      "text/plain": [
       "'20주 미만의 임신\\n20주 이상의 임신\\n감각상실 / 이상감각\\n감염 가능성 확인\\n감염성 질환에 노출\\n객혈\\n경증 및 비특이적 증상 호소\\n고혈당\\n고혈압\\n고환 통증 / 부종\\n과다 복용\\n과다호흡증후군\\n관절 부종\\n구토 / 구역\\n국소성 부종 / 발적\\n귀의 삼출물\\n귀의 손상\\n귀의 이물질\\n기괴한 행동\\n기억상실\\n기침 / 코막힘\\n기타 피부 상태\\n눈 충혈 / 분비물\\n눈 통증\\n눈부심\\n눈의 외상\\n눈의 이물질\\n눈의 화학물질 노출\\n다뇨증\\n다리 부기 / 부종\\n단독 복부 외상 - 관통상\\n단독 복부 외상 - 둔상\\n단독 흉부 외상 - 관통상\\n단독 흉부 외상 - 둔상\\n동상 / 한랭손상\\n두부 손상\\n두통\\n드레싱 교체\\n딸꾹질\\n떨림\\n맥박이 없거나 차가운 사지\\n목, 등, 허리 통증\\n목의 부종 / 통증\\n목의 외상\\n몸통을 포함한 다발성 외상 - 관통상\\n몸통을 포함한 다발성 외상 - 둔상\\n물림\\n물질 금단\\n물질 오용 / 중독\\n반지 제거\\n발작\\n발진\\n변비\\n보행 장애 / 운동 실조 / 강직\\n복뷔 종괴 / 팽만\\n복시\\n복통\\n불면증\\n불안 / 위기 상황\\n비정상 검사 결과\\n사지 약화 / 뇌졸중 증상\\n사회문제\\n상기도감염 증상 호소\\n상지 손상\\n상지 통증\\n상처 확인\\n샅고랑 부위 통증  종괴\\n생식기의 분비물 / 피부병변\\n생식기의 외상\\n석고 붕대 확인\\n설사\\n성폭행\\n소변배출장애\\n소양증\\n수술 후 합병증\\n숨참\\n스테이플 / 봉합사 제거\\n시력장애\\n식욕부진\\n실신 / 전실신\\n심계항진 / 불규칙한 심장박동\\n심정지(비외상성)\\n심정지(외상성)\\n쏘임\\n안면 통증 (비외상성 / 비치아성)\\n안명 외상\\n안와주위 부종\\n알레르기 반응\\n연하장애 / 연하곤란\\n열\\n열상 / 천공\\n영상 검사 / 검사실 검사\\n옆구리 통증\\n온열손상\\n외상성 목, 등, 허리 손상\\n외상없이 저절로 멍듦\\n요로감염 증상\\n우울증 / 자살 / 자해\\n월경 문제\\n유방의 발적 / 압통\\n유해물질 흡입\\n음경 부종\\n음순 부종\\n의료 장비 문제\\n의식 수준의 변화\\n이명\\n이물질 삼킴\\n이통\\n익수\\n인후통\\n일측성의 홍조 띤 뜨거운 사지\\n저체온증\\n저혈당\\n전기 손상\\n전문 진료를 위해서 의뢰된 환자\\n전신 부종\\n전신 쇠약\\n절단\\n직장내 이물질\\n질 분비물\\n질 출혈\\n질 통증 / 가려움\\n질내 이물질 \\n착란\\n찰과상\\n창백함 / 빈혈\\n처방전 / 투약 문의\\n청력소실\\n청색증\\n출산 후 문제 (6주 이내)\\n치아 / 구강 문제\\n코막힘\\n코의 외상\\n코의 이물질\\n코피\\n토혈\\n폭력 / 살인 행위\\n피부의 이물질\\n핍뇨증\\n하지 손상 \\n하지 통증\\n항문 / 직장 / 회음부 외상\\n항문 / 직장 / 회음부 통증\\n현훈\\n혈뇨\\n혈변 / 흑색변\\n혈액이나 체액에 노출\\n호흡 정지\\n호흡기 이물질\\n혹, 돌기, 굳은 살\\n화상\\n화학물질 노출\\n환각 / 망상\\n환자의 안녕에 대한 고려 (학대, 방임)\\n황달\\n흉통 (비심장성)\\n흉통 (심장성)'"
      ]
     },
     "execution_count": 45,
     "metadata": {},
     "output_type": "execute_result"
    }
   ],
   "source": [
    "with open ('../data/KTAS_symptoms.txt', 'r', encoding='utf-8-sig') as f:\n",
    "    possible_symptoms = f.read()\n",
    "\n",
    "possible_symptoms"
   ]
  },
  {
   "cell_type": "markdown",
   "id": "45897475",
   "metadata": {},
   "source": [
    "### 테스트 1: LLM으로 바로 주증상 선택"
   ]
  },
  {
   "cell_type": "code",
   "execution_count": null,
   "id": "4779bc95",
   "metadata": {},
   "outputs": [],
   "source": [
    "template = \"\"\"You are a specialized medical symptom classification assistant. You will receive a patient’s <Chief Coplaint> and <Additional Notes> and you must choose exactly one symptom from a predefined list of <Possible Symptoms>. \n",
    "\n",
    "Important Constraints:\n",
    "- You must choose only one symptom from the list.\n",
    "- Your answer must exactly match the corresponding symptom in the <Possible Symptoms> (including spacing, punctuation, letter case, etc.).\n",
    "- Output only the final result without adding any additional text, explanations, or formatting.\n",
    "\n",
    "Read the following information carefully and determine which single symptom from the <Possible Symptoms> best matches the information given.\n",
    "\n",
    "<Chief Complaint>:\n",
    "{chief_complaint}\n",
    "\n",
    "<Additional Notes>:\n",
    "{additional_notes}\n",
    "\n",
    "<Possible Symptoms>\n",
    "{possible_symptoms}\"\"\""
   ]
  },
  {
   "cell_type": "code",
   "execution_count": 22,
   "id": "a8d7e78e",
   "metadata": {},
   "outputs": [],
   "source": [
    "############ LLM 코드 작성 ##############"
   ]
  },
  {
   "cell_type": "code",
   "execution_count": 35,
   "id": "831a987e",
   "metadata": {},
   "outputs": [],
   "source": [
    "symptom = '코의 외상'"
   ]
  },
  {
   "cell_type": "code",
   "execution_count": 39,
   "id": "7aeb77bb",
   "metadata": {},
   "outputs": [
    {
     "name": "stderr",
     "output_type": "stream",
     "text": [
      "c:\\Users\\oneas\\ONEASH_local\\LLM-KTAS\\venv\\Lib\\site-packages\\huggingface_hub\\utils\\_deprecation.py:131: FutureWarning: 'post' (from 'huggingface_hub.inference._client') is deprecated and will be removed from version '0.31.0'. Making direct POST requests to the inference server is not supported anymore. Please use task methods instead (e.g. `InferenceClient.chat_completion`). If your use case is not supported, please open an issue in https://github.com/huggingface/huggingface_hub.\n",
      "  warnings.warn(warning_message, FutureWarning)\n"
     ]
    }
   ],
   "source": [
    "search_result = db.similarity_search_with_relevance_scores(symptom, k=1)"
   ]
  },
  {
   "cell_type": "code",
   "execution_count": null,
   "id": "4b12dd4f",
   "metadata": {},
   "outputs": [],
   "source": [
    "primary, secondary = get_considerations(search_result)"
   ]
  },
  {
   "cell_type": "code",
   "execution_count": null,
   "id": "f2787950",
   "metadata": {},
   "outputs": [],
   "source": []
  },
  {
   "cell_type": "markdown",
   "id": "d76a33aa",
   "metadata": {},
   "source": [
    "### 테스트2: 주호소와 비고를 그대로 사용하여 vector DB에서 semantic search (top 1)"
   ]
  },
  {
   "cell_type": "code",
   "execution_count": 81,
   "id": "d9cecd2d",
   "metadata": {},
   "outputs": [],
   "source": [
    "test_text = \"\"\"주호소: Disorientated\n",
    "비고: flapping tremor(-) 2차병원 내원하여 검사 안내함.\"\"\""
   ]
  },
  {
   "cell_type": "code",
   "execution_count": 94,
   "id": "ca554eb7",
   "metadata": {},
   "outputs": [
    {
     "name": "stderr",
     "output_type": "stream",
     "text": [
      "c:\\Users\\oneas\\ONEASH_local\\LLM-KTAS\\venv\\Lib\\site-packages\\huggingface_hub\\utils\\_deprecation.py:131: FutureWarning: 'post' (from 'huggingface_hub.inference._client') is deprecated and will be removed from version '0.31.0'. Making direct POST requests to the inference server is not supported anymore. Please use task methods instead (e.g. `InferenceClient.chat_completion`). If your use case is not supported, please open an issue in https://github.com/huggingface/huggingface_hub.\n",
      "  warnings.warn(warning_message, FutureWarning)\n"
     ]
    }
   ],
   "source": [
    "search_result = db._similarity_search_with_relevance_scores(test_text, k=1)\n",
    "primary, secondary = get_considerations(search_result)"
   ]
  },
  {
   "cell_type": "code",
   "execution_count": 96,
   "id": "d0dd349f",
   "metadata": {},
   "outputs": [
    {
     "data": {
      "text/plain": [
       "'사지 약화 / 뇌졸중 증상'"
      ]
     },
     "execution_count": 96,
     "metadata": {},
     "output_type": "execute_result"
    }
   ],
   "source": [
    "search_result[0][0].page_content"
   ]
  },
  {
   "cell_type": "code",
   "execution_count": 97,
   "id": "b2eae7ab",
   "metadata": {},
   "outputs": [
    {
     "data": {
      "text/plain": [
       "([{'consideration': '중증 호흡곤란', 'KTAS_level': 1},\n",
       "  {'consideration': '쇼크', 'KTAS_level': 1},\n",
       "  {'consideration': '무의식', 'KTAS_level': 1},\n",
       "  {'consideration': '중등도 호흡곤란', 'KTAS_level': 2},\n",
       "  {'consideration': '혈역학적 장애', 'KTAS_level': 2},\n",
       "  {'consideration': '의식변화', 'KTAS_level': 2},\n",
       "  {'consideration': '열, 면역저하 상태', 'KTAS_level': 2},\n",
       "  {'consideration': '패혈증 의증', 'KTAS_level': 2},\n",
       "  {'consideration': '급성 중심성 중증 통증', 'KTAS_level': 2},\n",
       "  {'consideration': '출혈성 질환 (생명 혹은 사지를 소실할 정도의 위급한 출혈)', 'KTAS_level': 2},\n",
       "  {'consideration': '경증 호흡곤란', 'KTAS_level': 3},\n",
       "  {'consideration': '비정상 맥박수지만 혈역학적으로 안정', 'KTAS_level': 3},\n",
       "  {'consideration': '전신염증반응증후군', 'KTAS_level': 3},\n",
       "  {'consideration': '열 (아파 보임)', 'KTAS_level': 3},\n",
       "  {'consideration': '급성 중심성 중등도 통증', 'KTAS_level': 3},\n",
       "  {'consideration': '출혈성 질환 (중등도나 경도의 출혈)', 'KTAS_level': 3}],\n",
       " [{'consideration': '발병시간 24시간 이내', 'KTAS_level': 2},\n",
       "  {'consideration': '발병시간 24시간 초과', 'KTAS_level': 3},\n",
       "  {'consideration': '회복된 상태', 'KTAS_level': 3}])"
      ]
     },
     "execution_count": 97,
     "metadata": {},
     "output_type": "execute_result"
    }
   ],
   "source": [
    "primary, secondary"
   ]
  },
  {
   "cell_type": "code",
   "execution_count": null,
   "id": "efb5c3ec",
   "metadata": {},
   "outputs": [],
   "source": []
  },
  {
   "cell_type": "markdown",
   "id": "aa025248",
   "metadata": {},
   "source": [
    "### 테스트3: 주호소와 비고를 그대로 사용하여 vector DB에서 semantic search (top k) -> LLM이 가장 적절한 1개 선택"
   ]
  },
  {
   "cell_type": "code",
   "execution_count": 99,
   "id": "1a2c0094",
   "metadata": {},
   "outputs": [],
   "source": [
    "test_text = \"\"\"주호소: Disorientated\n",
    "비고: flapping tremor(-) 2차병원 내원하여 검사 안내함.\"\"\""
   ]
  },
  {
   "cell_type": "code",
   "execution_count": 100,
   "id": "dec41e2f",
   "metadata": {},
   "outputs": [
    {
     "name": "stderr",
     "output_type": "stream",
     "text": [
      "c:\\Users\\oneas\\ONEASH_local\\LLM-KTAS\\venv\\Lib\\site-packages\\huggingface_hub\\utils\\_deprecation.py:131: FutureWarning: 'post' (from 'huggingface_hub.inference._client') is deprecated and will be removed from version '0.31.0'. Making direct POST requests to the inference server is not supported anymore. Please use task methods instead (e.g. `InferenceClient.chat_completion`). If your use case is not supported, please open an issue in https://github.com/huggingface/huggingface_hub.\n",
      "  warnings.warn(warning_message, FutureWarning)\n"
     ]
    }
   ],
   "source": [
    "search_result = db._similarity_search_with_relevance_scores(test_text, k=5)"
   ]
  },
  {
   "cell_type": "code",
   "execution_count": 104,
   "id": "f4c8ff9e",
   "metadata": {},
   "outputs": [
    {
     "name": "stdout",
     "output_type": "stream",
     "text": [
      "page_content='사지 약화 / 뇌졸중 증상' metadata={'ROS': '신경계', 'primary': [{'consideration': '중증 호흡곤란', 'KTAS_level': 1}, {'consideration': '쇼크', 'KTAS_level': 1}, {'consideration': '무의식', 'KTAS_level': 1}, {'consideration': '중등도 호흡곤란', 'KTAS_level': 2}, {'consideration': '혈역학적 장애', 'KTAS_level': 2}, {'consideration': '의식변화', 'KTAS_level': 2}, {'consideration': '열, 면역저하 상태', 'KTAS_level': 2}, {'consideration': '패혈증 의증', 'KTAS_level': 2}, {'consideration': '급성 중심성 중증 통증', 'KTAS_level': 2}, {'consideration': '출혈성 질환 (생명 혹은 사지를 소실할 정도의 위급한 출혈)', 'KTAS_level': 2}, {'consideration': '경증 호흡곤란', 'KTAS_level': 3}, {'consideration': '비정상 맥박수지만 혈역학적으로 안정', 'KTAS_level': 3}, {'consideration': '전신염증반응증후군', 'KTAS_level': 3}, {'consideration': '열 (아파 보임)', 'KTAS_level': 3}, {'consideration': '급성 중심성 중등도 통증', 'KTAS_level': 3}, {'consideration': '출혈성 질환 (중등도나 경도의 출혈)', 'KTAS_level': 3}], 'secondary': [{'consideration': '발병시간 24시간 이내', 'KTAS_level': 2}, {'consideration': '발병시간 24시간 초과', 'KTAS_level': 3}, {'consideration': '회복된 상태', 'KTAS_level': 3}]}\n",
      "page_content='보행 장애 / 운동 실조 / 강직' metadata={'ROS': '신경계', 'primary': [{'consideration': '중증 호흡곤란', 'KTAS_level': 1}, {'consideration': '쇼크', 'KTAS_level': 1}, {'consideration': '무의식', 'KTAS_level': 1}, {'consideration': '중등도 호흡곤란', 'KTAS_level': 2}, {'consideration': '혈역학적 장애', 'KTAS_level': 2}, {'consideration': '의식변화', 'KTAS_level': 2}, {'consideration': '열, 면역저하 상태', 'KTAS_level': 2}, {'consideration': '패혈증 의증', 'KTAS_level': 2}, {'consideration': '경증 호흡곤란', 'KTAS_level': 3}, {'consideration': '비정상 맥박수지만 혈역학적으로 안정', 'KTAS_level': 3}, {'consideration': '전신염증반응증후군', 'KTAS_level': 3}, {'consideration': '열 (아파 보임)', 'KTAS_level': 3}, {'consideration': '열 (건강해 보임)', 'KTAS_level': 4}], 'secondary': [{'consideration': '발병시간 <24 시간', 'KTAS_level': 2}]}\n",
      "page_content='심정지(외상성)' metadata={'ROS': '심혈관계', 'primary': [], 'secondary': [{'consideration': '심정지 (외상성)', 'KTAS_level': 1}, {'consideration': '심폐소생술의 대상이 아닌 경우', 'KTAS_level': 5}]}\n",
      "page_content='몸통을 포함한 다발성 외상 - 둔상' metadata={'ROS': '몸통외상', 'primary': [{'consideration': '중증 호흡곤란', 'KTAS_level': 1}, {'consideration': '쇼크', 'KTAS_level': 1}, {'consideration': '무의식', 'KTAS_level': 1}, {'consideration': '중등도 호흡곤란', 'KTAS_level': 2}, {'consideration': '혈역학적 장애', 'KTAS_level': 2}, {'consideration': '의식변화', 'KTAS_level': 2}, {'consideration': '열, 면역저하 상태', 'KTAS_level': 2}, {'consideration': '패혈증 의증', 'KTAS_level': 2}, {'consideration': '급성 중심성 중증 통증', 'KTAS_level': 2}, {'consideration': '출혈성 질환 (생명 혹은 사지를 소실할 정도의 위급한 출혈)', 'KTAS_level': 2}, {'consideration': '고위험성 사고기전', 'KTAS_level': 2}, {'consideration': '경증 호흡곤란', 'KTAS_level': 3}, {'consideration': '비정상 맥박수지만 혈역학적으로 안정', 'KTAS_level': 3}, {'consideration': '전신염증반응증후군', 'KTAS_level': 3}, {'consideration': '열 (아파 보임)', 'KTAS_level': 3}, {'consideration': '급성 중심성 중등도 통증', 'KTAS_level': 3}, {'consideration': '출혈성 질환 (중등도나 경도의 출혈)', 'KTAS_level': 3}, {'consideration': '열 (건강해 보임)', 'KTAS_level': 4}, {'consideration': '급성 중심성 경증 통증', 'KTAS_level': 4}], 'secondary': [{'consideration': '신경학적 손상과 동반된 척추 골절', 'KTAS_level': 1}, {'consideration': '사지의 신경혈관 장애', 'KTAS_level': 2}, {'consideration': '장기간의 척추고정', 'KTAS_level': 3}, {'consideration': '몸통을 포함한 다발성 외상 - 둔상', 'KTAS_level': 4}]}\n",
      "page_content='심계항진 / 불규칙한 심장박동' metadata={'ROS': '심혈관계', 'primary': [{'consideration': '중증 호흡곤란', 'KTAS_level': 1}, {'consideration': '쇼크', 'KTAS_level': 1}, {'consideration': '무의식', 'KTAS_level': 1}, {'consideration': '중등도 호흡곤란', 'KTAS_level': 2}, {'consideration': '혈역학적 장애', 'KTAS_level': 2}, {'consideration': '의식변화', 'KTAS_level': 2}, {'consideration': '열, 면역저하 상태', 'KTAS_level': 2}, {'consideration': '패혈증 의증', 'KTAS_level': 2}, {'consideration': '경증 호흡곤란', 'KTAS_level': 3}, {'consideration': '비정상 맥박수지만 혈역학적으로 안정', 'KTAS_level': 3}, {'consideration': '전신염증반응증후군', 'KTAS_level': 3}, {'consideration': '열 (아파 보임)', 'KTAS_level': 3}], 'secondary': [{'consideration': '심장성 가슴 통증', 'KTAS_level': 2}, {'consideration': '치명적일 수 있는 부정맥의 병력이나 기록', 'KTAS_level': 2}, {'consideration': '급성 발병, 지속되는 증상', 'KTAS_level': 3}, {'consideration': '심계항진 병력, 현재는 회복된 상태', 'KTAS_level': 4}]}\n"
     ]
    }
   ],
   "source": [
    "for doc in search_result:\n",
    "    print(doc[0])"
   ]
  },
  {
   "cell_type": "code",
   "execution_count": null,
   "id": "0ff1da7e",
   "metadata": {},
   "outputs": [],
   "source": []
  },
  {
   "cell_type": "code",
   "execution_count": 105,
   "id": "25322613",
   "metadata": {},
   "outputs": [],
   "source": [
    "test_text = \"\"\"주호소: Cough, Fever and chilling\n",
    "비고: fever upto 38.1\n",
    "\n",
    "4pm 캐롤에프 해열제 목용 후 내원함.\"\"\""
   ]
  },
  {
   "cell_type": "code",
   "execution_count": 109,
   "id": "f23305ae",
   "metadata": {},
   "outputs": [
    {
     "name": "stdout",
     "output_type": "stream",
     "text": [
      "page_content='기침 / 코막힘' metadata={'ROS': '호흡기계', 'primary': [{'consideration': '중등도 호흡곤란', 'KTAS_level': 2}, {'consideration': '혈역학적 장애', 'KTAS_level': 2}, {'consideration': '의식변화', 'KTAS_level': 2}, {'consideration': '열, 면역저하 상태', 'KTAS_level': 2}, {'consideration': '패혈증 의증', 'KTAS_level': 2}, {'consideration': '경증 호흡곤란', 'KTAS_level': 3}, {'consideration': '비정상 맥박수지만 혈역학적으로 안정', 'KTAS_level': 3}, {'consideration': '전신염증반응증후군', 'KTAS_level': 3}, {'consideration': '열 (아파 보임)', 'KTAS_level': 3}, {'consideration': '열 (건강해 보임)', 'KTAS_level': 4}], 'secondary': [{'consideration': '만성 기침 / 코막힘, 정상 활력징후', 'KTAS_level': 5}]}\n",
      "page_content='저체온증' metadata={'ROS': '환경손상', 'primary': [{'consideration': '중증 호흡곤란', 'KTAS_level': 1}, {'consideration': '쇼크', 'KTAS_level': 1}, {'consideration': '무의식', 'KTAS_level': 1}, {'consideration': '중등도 호흡곤란', 'KTAS_level': 2}, {'consideration': '혈역학적 장애', 'KTAS_level': 2}, {'consideration': '의식변화', 'KTAS_level': 2}, {'consideration': '열, 면역저하 상태', 'KTAS_level': 2}, {'consideration': '패혈증 의증', 'KTAS_level': 2}, {'consideration': '경증 호흡곤란', 'KTAS_level': 3}, {'consideration': '비정상 맥박수지만 혈역학적으로 안정', 'KTAS_level': 3}, {'consideration': '전신염증반응증후군', 'KTAS_level': 3}, {'consideration': '열 (아파 보임)', 'KTAS_level': 3}], 'secondary': [{'consideration': '저체온증, 중심 체온 <32°C', 'KTAS_level': 2}, {'consideration': '중심체온 32-35°C', 'KTAS_level': 3}, {'consideration': ' 동상 없음, 정상 활려징후', 'KTAS_level': 4}]}\n",
      "page_content='상기도감염 증상 호소' metadata={'ROS': '코', 'primary': [{'consideration': '중등도 호흡곤란', 'KTAS_level': 2}, {'consideration': '경증 호흡곤란', 'KTAS_level': 3}, {'consideration': '비정상 맥박수지만 혈역학적으로 안정', 'KTAS_level': 3}, {'consideration': '전신염증반응증후군', 'KTAS_level': 3}, {'consideration': '열 (아파 보임)', 'KTAS_level': 3}, {'consideration': '급성 말초성 중증 통증', 'KTAS_level': 3}, {'consideration': '열 (건강해 보임)', 'KTAS_level': 4}, {'consideration': '급성 말초성 중등도 통증', 'KTAS_level': 4}, {'consideration': '급성 말초성 경증 통증', 'KTAS_level': 5}], 'secondary': [{'consideration': '건강해 보임, 열 없음', 'KTAS_level': 5}]}\n",
      "page_content='처방전 / 투약 문의' metadata={'ROS': '일반', 'primary': [], 'secondary': [{'consideration': '처방전 / 투약 문의', 'KTAS_level': 5}]}\n",
      "page_content='환자의 안녕에 대한 고려 (학대, 방임)' metadata={'ROS': '정신건강', 'primary': [], 'secondary': [{'consideration': '폭력 또는 안전하지 않은 상황', 'KTAS_level': 1}, {'consideration': '도주의 가능성이나 학대가 반복될 위험', 'KTAS_level': 2}, {'consideration': '육체적 폭행 또는 성폭행', 'KTAS_level': 3}, {'consideration': '학대의 병력 / 징후', 'KTAS_level': 4}]}\n"
     ]
    }
   ],
   "source": [
    "search_result = db._similarity_search_with_relevance_scores(test_text, k=5)\n",
    "for doc in search_result:\n",
    "    print(doc[0])"
   ]
  },
  {
   "cell_type": "code",
   "execution_count": 111,
   "id": "b62609a7",
   "metadata": {},
   "outputs": [
    {
     "name": "stdout",
     "output_type": "stream",
     "text": [
      "page_content='기침 / 코막힘' metadata={'ROS': '호흡기계', 'primary': [{'consideration': '중등도 호흡곤란', 'KTAS_level': 2}, {'consideration': '혈역학적 장애', 'KTAS_level': 2}, {'consideration': '의식변화', 'KTAS_level': 2}, {'consideration': '열, 면역저하 상태', 'KTAS_level': 2}, {'consideration': '패혈증 의증', 'KTAS_level': 2}, {'consideration': '경증 호흡곤란', 'KTAS_level': 3}, {'consideration': '비정상 맥박수지만 혈역학적으로 안정', 'KTAS_level': 3}, {'consideration': '전신염증반응증후군', 'KTAS_level': 3}, {'consideration': '열 (아파 보임)', 'KTAS_level': 3}, {'consideration': '열 (건강해 보임)', 'KTAS_level': 4}], 'secondary': [{'consideration': '만성 기침 / 코막힘, 정상 활력징후', 'KTAS_level': 5}]}\n",
      "page_content='저체온증' metadata={'ROS': '환경손상', 'primary': [{'consideration': '중증 호흡곤란', 'KTAS_level': 1}, {'consideration': '쇼크', 'KTAS_level': 1}, {'consideration': '무의식', 'KTAS_level': 1}, {'consideration': '중등도 호흡곤란', 'KTAS_level': 2}, {'consideration': '혈역학적 장애', 'KTAS_level': 2}, {'consideration': '의식변화', 'KTAS_level': 2}, {'consideration': '열, 면역저하 상태', 'KTAS_level': 2}, {'consideration': '패혈증 의증', 'KTAS_level': 2}, {'consideration': '경증 호흡곤란', 'KTAS_level': 3}, {'consideration': '비정상 맥박수지만 혈역학적으로 안정', 'KTAS_level': 3}, {'consideration': '전신염증반응증후군', 'KTAS_level': 3}, {'consideration': '열 (아파 보임)', 'KTAS_level': 3}], 'secondary': [{'consideration': '저체온증, 중심 체온 <32°C', 'KTAS_level': 2}, {'consideration': '중심체온 32-35°C', 'KTAS_level': 3}, {'consideration': ' 동상 없음, 정상 활려징후', 'KTAS_level': 4}]}\n",
      "page_content='상기도감염 증상 호소' metadata={'ROS': '코', 'primary': [{'consideration': '중등도 호흡곤란', 'KTAS_level': 2}, {'consideration': '경증 호흡곤란', 'KTAS_level': 3}, {'consideration': '비정상 맥박수지만 혈역학적으로 안정', 'KTAS_level': 3}, {'consideration': '전신염증반응증후군', 'KTAS_level': 3}, {'consideration': '열 (아파 보임)', 'KTAS_level': 3}, {'consideration': '급성 말초성 중증 통증', 'KTAS_level': 3}, {'consideration': '열 (건강해 보임)', 'KTAS_level': 4}, {'consideration': '급성 말초성 중등도 통증', 'KTAS_level': 4}, {'consideration': '급성 말초성 경증 통증', 'KTAS_level': 5}], 'secondary': [{'consideration': '건강해 보임, 열 없음', 'KTAS_level': 5}]}\n",
      "page_content='처방전 / 투약 문의' metadata={'ROS': '일반', 'primary': [], 'secondary': [{'consideration': '처방전 / 투약 문의', 'KTAS_level': 5}]}\n",
      "page_content='환자의 안녕에 대한 고려 (학대, 방임)' metadata={'ROS': '정신건강', 'primary': [], 'secondary': [{'consideration': '폭력 또는 안전하지 않은 상황', 'KTAS_level': 1}, {'consideration': '도주의 가능성이나 학대가 반복될 위험', 'KTAS_level': 2}, {'consideration': '육체적 폭행 또는 성폭행', 'KTAS_level': 3}, {'consideration': '학대의 병력 / 징후', 'KTAS_level': 4}]}\n"
     ]
    }
   ],
   "source": [
    "db.similarity_search('fever and chilling')\n",
    "for doc in search_result:\n",
    "    print(doc[0])"
   ]
  },
  {
   "cell_type": "code",
   "execution_count": null,
   "id": "14b3e886",
   "metadata": {},
   "outputs": [],
   "source": []
  },
  {
   "cell_type": "markdown",
   "id": "4630c557",
   "metadata": {},
   "source": [
    "### 테스트4: LLM으로 주호소 추출 (NER) → 주호소 참고하여 LLM으로 증상 선택 → 해당 증상으로 JSON 또는 vector DB에서 추출"
   ]
  },
  {
   "cell_type": "code",
   "execution_count": null,
   "id": "db121295",
   "metadata": {},
   "outputs": [],
   "source": [
    "template_NER = \"\"\"You are a specialized assistance for recognizing medical entities. You will receive a patient’s <Chief Coplaint> and <Additional Notes> and you must extract all entities that correspond to the chief complaint or primary symptoms.  \n",
    "\n",
    "Important Constraints:\n",
    "- If multiple entities are present, output the in a single line separated by commas.\n",
    "- Make sure to retain the exact text as it appears in the original note without any modifications.\n",
    "- Output only the final result without adding any additional text, explanations, or formatting.\n",
    "\n",
    "Read the following information carefully and extract all entities corresponding to the chief complaint or primary symptoms.\n",
    "\n",
    "<Chief Complaint>:\n",
    "{chief_complaint}\n",
    "\n",
    "<Additional Notes>:\n",
    "{additional_notes}\"\"\""
   ]
  },
  {
   "cell_type": "code",
   "execution_count": null,
   "id": "32111ef5",
   "metadata": {},
   "outputs": [],
   "source": [
    "prompt_NER = PromptTemplate.from_template(template_NER)\n",
    "\n",
    "chain_NER = prompt_NER | llm | output_parser"
   ]
  },
  {
   "cell_type": "code",
   "execution_count": null,
   "id": "104a1d66",
   "metadata": {},
   "outputs": [],
   "source": [
    "entities = chain_NER.invoke({\"chief_complaint\": \"Disorientated\", \"additional_notes\": \"flapping tremor(-) 2차병원 내원하여 검사 안내함.\"})"
   ]
  },
  {
   "cell_type": "code",
   "execution_count": 33,
   "id": "ce03da00",
   "metadata": {},
   "outputs": [
    {
     "data": {
      "text/plain": [
       "'Disorientated, flapping tremor'"
      ]
     },
     "execution_count": 33,
     "metadata": {},
     "output_type": "execute_result"
    }
   ],
   "source": [
    "entities"
   ]
  },
  {
   "cell_type": "code",
   "execution_count": 36,
   "id": "3106550a",
   "metadata": {},
   "outputs": [],
   "source": [
    "template_symptom = \"\"\"You are a specialized medical symptom classification assistant. You will receive a patient’s <Chief Coplaint> and you must choose exactly one symptom from a predefined list of <Possible Symptoms>. \n",
    "\n",
    "Important Constraints:\n",
    "- You must choose only one symptom from the list.\n",
    "- Your answer must exactly match the corresponding symptom in the <Possible Symptoms> (including spacing, punctuation, letter case, etc.).\n",
    "- Output only the final result without adding any additional text, explanations, or formatting.\n",
    "\n",
    "Read the following information carefully and determine which single symptom from the <Possible Symptoms> best matches the information given.\n",
    "\n",
    "<Chief Complaint>:\n",
    "{chief_complaint}\n",
    "\n",
    "<Possible Symptoms>\n",
    "{possible_symptoms}\"\"\""
   ]
  },
  {
   "cell_type": "code",
   "execution_count": 46,
   "id": "65397e30",
   "metadata": {},
   "outputs": [],
   "source": [
    "prompt_symptom = PromptTemplate.from_template(template_symptom)\n",
    "\n",
    "chain_symptom = prompt_symptom | llm | output_parser"
   ]
  },
  {
   "cell_type": "code",
   "execution_count": 47,
   "id": "fc6e7a8b",
   "metadata": {},
   "outputs": [],
   "source": [
    "symptom = chain_symptom.invoke({\"chief_complaint\": entities, \"possible_symptoms\": possible_symptoms})"
   ]
  },
  {
   "cell_type": "code",
   "execution_count": 48,
   "id": "485c6758",
   "metadata": {},
   "outputs": [
    {
     "data": {
      "text/plain": [
       "'떨림'"
      ]
     },
     "execution_count": 48,
     "metadata": {},
     "output_type": "execute_result"
    }
   ],
   "source": [
    "symptom"
   ]
  }
 ],
 "metadata": {
  "kernelspec": {
   "display_name": "venv",
   "language": "python",
   "name": "python3"
  },
  "language_info": {
   "codemirror_mode": {
    "name": "ipython",
    "version": 3
   },
   "file_extension": ".py",
   "mimetype": "text/x-python",
   "name": "python",
   "nbconvert_exporter": "python",
   "pygments_lexer": "ipython3",
   "version": "3.12.9"
  }
 },
 "nbformat": 4,
 "nbformat_minor": 5
}
