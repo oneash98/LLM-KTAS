{
 "cells": [
  {
   "cell_type": "code",
   "execution_count": 10,
   "metadata": {
    "executionInfo": {
     "elapsed": 9,
     "status": "ok",
     "timestamp": 1744269919536,
     "user": {
      "displayName": "Hanjae Kim",
      "userId": "02991760026987687501"
     },
     "user_tz": -540
    },
    "id": "n4A_Bq28ZVLY"
   },
   "outputs": [],
   "source": [
    "from langchain_huggingface.embeddings import HuggingFaceEndpointEmbeddings\n",
    "from langchain_community.document_loaders import JSONLoader\n",
    "from dotenv import load_dotenv\n",
    "import os\n",
    "import pandas as pd\n",
    "import json\n",
    "from langchain_community.vectorstores import FAISS\n",
    "from langchain_community.vectorstores.utils import DistanceStrategy\n",
    "\n",
    "\n",
    "load_dotenv()\n",
    "\n",
    "HF_API_TOKEN = os.environ[\"HF_API_TOKEN\"]"
   ]
  },
  {
   "cell_type": "code",
   "execution_count": 17,
   "metadata": {
    "executionInfo": {
     "elapsed": 26,
     "status": "ok",
     "timestamp": 1744269933617,
     "user": {
      "displayName": "Hanjae Kim",
      "userId": "02991760026987687501"
     },
     "user_tz": -540
    },
    "id": "HDjKrCDUZVLh"
   },
   "outputs": [],
   "source": [
    "with open('../data/KTAS_성인.json', 'r') as f:\n",
    "    json_KTAS_adult = json.load(f)"
   ]
  },
  {
   "cell_type": "code",
   "execution_count": 18,
   "metadata": {
    "executionInfo": {
     "elapsed": 2,
     "status": "ok",
     "timestamp": 1744269933633,
     "user": {
      "displayName": "Hanjae Kim",
      "userId": "02991760026987687501"
     },
     "user_tz": -540
    },
    "id": "C5mkIs1AZVLh"
   },
   "outputs": [],
   "source": [
    "# 임베딩으로 위해 JSON을 document로 변환\n",
    "\n",
    "def metadata_func(record: dict, metadata: dict) -> dict:\n",
    "    # symptom을 제외한 모든 필드를 metadata로 추가\n",
    "    for key, value in record.items():\n",
    "        if key != 'symptom':\n",
    "            if isinstance(value, dict):\n",
    "                value.astype(str)\n",
    "            metadata_dict = {key: value}\n",
    "            metadata.update(metadata_dict)\n",
    "\n",
    "    # source와 seq 키가 있다면 명시적으로 제거\n",
    "    if 'source' in metadata:\n",
    "        del metadata['source']\n",
    "    if 'seq_num' in metadata:\n",
    "        del metadata['seq_num']\n",
    "\n",
    "    return metadata\n",
    "\n",
    "loader = JSONLoader(\n",
    "    file_path='../data/KTAS_성인.json',\n",
    "    jq_schema=\".[]\",\n",
    "    content_key=\"symptom\",\n",
    "    metadata_func=metadata_func\n",
    ")"
   ]
  },
  {
   "cell_type": "code",
   "execution_count": 19,
   "metadata": {
    "colab": {
     "base_uri": "https://localhost:8080/"
    },
    "executionInfo": {
     "elapsed": 16,
     "status": "ok",
     "timestamp": 1744269933650,
     "user": {
      "displayName": "Hanjae Kim",
      "userId": "02991760026987687501"
     },
     "user_tz": -540
    },
    "id": "3Z91rVbYZVLi",
    "outputId": "70efde01-211f-494b-e9c3-eba4de7807f9"
   },
   "outputs": [
    {
     "data": {
      "text/plain": [
       "[Document(metadata={'ROS': '임신 / 여성생식계', 'primary': [{'consideration': '중증 호흡곤란', 'KTAS_level': 1}, {'consideration': '쇼크', 'KTAS_level': 1}, {'consideration': '무의식', 'KTAS_level': 1}, {'consideration': '중등도 호흡곤란', 'KTAS_level': 2}, {'consideration': '혈역학적 장애', 'KTAS_level': 2}, {'consideration': '의식변화', 'KTAS_level': 2}, {'consideration': '열, 면역저하 상태', 'KTAS_level': 2}, {'consideration': '패혈증 의증', 'KTAS_level': 2}, {'consideration': '급성 중심성 중증 통증', 'KTAS_level': 2}, {'consideration': '출혈성 질환 (생명 혹은 사지를 소실할 정도의 위급한 출혈)', 'KTAS_level': 2}, {'consideration': '고위험성 사고기전', 'KTAS_level': 2}, {'consideration': '경증 호흡곤란', 'KTAS_level': 3}, {'consideration': '비정상 맥박수지만 혈역학적으로 안정', 'KTAS_level': 3}, {'consideration': '전신염증반응증후군', 'KTAS_level': 3}, {'consideration': '열 (아파 보임)', 'KTAS_level': 3}, {'consideration': '급성 중심성 중등도 통증', 'KTAS_level': 3}, {'consideration': '출혈성 질환 (중등도나 경도의 출혈)', 'KTAS_level': 3}, {'consideration': '급성 중심성 경증 통증', 'KTAS_level': 4}], 'secondary': [{'consideration': '주기적인 복부 뭉침 또는 허리 통증을 동반한 골반의 압박감', 'KTAS_level': 2}, {'consideration': '다량의 질 출혈', 'KTAS_level': 2}, {'consideration': '경증 / 중등도의 질 출혈', 'KTAS_level': 3}, {'consideration': '복부의 뭉침', 'KTAS_level': 3}, {'consideration': '양수누출의 가능성', 'KTAS_level': 3}, {'consideration': '질 출혈 (점상출혈)', 'KTAS_level': 4}, {'consideration': '핑크빛 점액성 분비물', 'KTAS_level': 5}, {'consideration': '질 분비물', 'KTAS_level': 5}]}, page_content='20주 미만의 임신'),\n",
       " Document(metadata={'ROS': '임신 / 여성생식계', 'primary': [{'consideration': '중증 호흡곤란', 'KTAS_level': 1}, {'consideration': '쇼크', 'KTAS_level': 1}, {'consideration': '무의식', 'KTAS_level': 1}, {'consideration': '중등도 호흡곤란', 'KTAS_level': 2}, {'consideration': '혈역학적 장애', 'KTAS_level': 2}, {'consideration': '의식변화', 'KTAS_level': 2}, {'consideration': '열, 면역저하 상태', 'KTAS_level': 2}, {'consideration': '패혈증 의증', 'KTAS_level': 2}, {'consideration': '급성 중심성 중증 통증', 'KTAS_level': 2}, {'consideration': '출혈성 질환 (생명 혹은 사지를 소실할 정도의 위급한 출혈)', 'KTAS_level': 2}, {'consideration': '고위험성 사고기전', 'KTAS_level': 2}, {'consideration': '경증 호흡곤란', 'KTAS_level': 3}, {'consideration': '비정상 맥박수지만 혈역학적으로 안정', 'KTAS_level': 3}, {'consideration': '전신염증반응증후군', 'KTAS_level': 3}, {'consideration': '열 (아파 보임)', 'KTAS_level': 3}, {'consideration': '급성 중심성 중등도 통증', 'KTAS_level': 3}, {'consideration': '출혈성 질환 (중등도나 경도의 출혈)', 'KTAS_level': 3}, {'consideration': '급성 중심성 경증 통증', 'KTAS_level': 4}], 'secondary': [{'consideration': '태아의 일부분이 보이거나 탯줄 탈출', 'KTAS_level': 1}, {'consideration': '지속되는 질 출혈', 'KTAS_level': 1}, {'consideration': '발작 중 또는 발작 후 상태', 'KTAS_level': 1}, {'consideration': '임신 주수 >20주, 복부 관통상', 'KTAS_level': 1}, {'consideration': '태동이 없음', 'KTAS_level': 1}, {'consideration': '진통 (자궁수축 ≤5분)', 'KTAS_level': 2}, {'consideration': '예정이 없었거나 의도치 않은 출산', 'KTAS_level': 2}, {'consideration': '태동이 감소함', 'KTAS_level': 2}, {'consideration': '수축기 혈압 > 160mmHg 또는 이완기 혈압 > 100mmHg', 'KTAS_level': 2}, {'consideration': '두통 ± 부종 ± 상복부 통증 ± 시각장애 ± 뇌졸중 증상', 'KTAS_level': 2}, {'consideration': '임신주수 > 20주, 주요 복부 둔상', 'KTAS_level': 2}, {'consideration': '고위험 물질의 오용', 'KTAS_level': 2}, {'consideration': '진통 (자궁수축 >5분)', 'KTAS_level': 3}, {'consideration': '질 출혈, 현재는 멈춤', 'KTAS_level': 3}, {'consideration': '수축기 혈압 > 140mmHg 또는 이완기 혈압 > 90mmHg', 'KTAS_level': 3}, {'consideration': '복부를 제외한 부위의 경증 외상', 'KTAS_level': 3}, {'consideration': '양수 누출', 'KTAS_level': 3}, {'consideration': '임신주수 >20주', 'KTAS_level': 4}]}, page_content='20주 이상의 임신'),\n",
       " Document(metadata={'ROS': '신경계', 'primary': [], 'secondary': [{'consideration': '새로 발병한 감각소실 / 이상감각', 'KTAS_level': 3}, {'consideration': '만성 감각소실 / 이상감각', 'KTAS_level': 4}]}, page_content='감각상실 / 이상감각'),\n",
       " Document(metadata={'ROS': '피부', 'primary': [{'consideration': '급성 말초성 중증 통증', 'KTAS_level': 3}, {'consideration': '급성 말초성 중등도 통증', 'KTAS_level': 4}, {'consideration': '급성 말초성 경증 통증', 'KTAS_level': 5}], 'secondary': [{'consideration': '감염 가능성 확인', 'KTAS_level': 5}]}, page_content='감염 가능성 확인'),\n",
       " Document(metadata={'ROS': '일반', 'primary': [], 'secondary': [{'consideration': '감염성 질환에 노출', 'KTAS_level': 5}]}, page_content='감염성 질환에 노출')]"
      ]
     },
     "execution_count": 19,
     "metadata": {},
     "output_type": "execute_result"
    }
   ],
   "source": [
    "docs = loader.load()\n",
    "docs[:5]"
   ]
  },
  {
   "cell_type": "code",
   "execution_count": 20,
   "metadata": {
    "executionInfo": {
     "elapsed": 338,
     "status": "ok",
     "timestamp": 1744269933989,
     "user": {
      "displayName": "Hanjae Kim",
      "userId": "02991760026987687501"
     },
     "user_tz": -540
    },
    "id": "6602krnIZVLj"
   },
   "outputs": [],
   "source": [
    "# 임베딩 모델\n",
    "\n",
    "model_name = \"intfloat/multilingual-e5-large-instruct\"\n",
    "\n",
    "hf_embeddings = HuggingFaceEndpointEmbeddings(\n",
    "    model=model_name,\n",
    "    # task = 'feature-extraction',\n",
    "    huggingfacehub_api_token=HF_API_TOKEN\n",
    ")"
   ]
  },
  {
   "cell_type": "code",
   "execution_count": 21,
   "metadata": {
    "colab": {
     "base_uri": "https://localhost:8080/"
    },
    "executionInfo": {
     "elapsed": 6824,
     "status": "ok",
     "timestamp": 1744269942274,
     "user": {
      "displayName": "Hanjae Kim",
      "userId": "02991760026987687501"
     },
     "user_tz": -540
    },
    "id": "cP07zKL1ZVLj",
    "outputId": "d8e2c6fc-775a-4a71-b937-eae5ad25946d"
   },
   "outputs": [
    {
     "name": "stderr",
     "output_type": "stream",
     "text": [
      "/usr/local/lib/python3.11/dist-packages/huggingface_hub/utils/_deprecation.py:131: FutureWarning: 'post' (from 'huggingface_hub.inference._client') is deprecated and will be removed from version '0.31.0'. Making direct POST requests to the inference server is not supported anymore. Please use task methods instead (e.g. `InferenceClient.chat_completion`). If your use case is not supported, please open an issue in https://github.com/huggingface/huggingface_hub.\n",
      "  warnings.warn(warning_message, FutureWarning)\n",
      "/usr/local/lib/python3.11/dist-packages/huggingface_hub/utils/_auth.py:94: UserWarning: \n",
      "The secret `HF_TOKEN` does not exist in your Colab secrets.\n",
      "To authenticate with the Hugging Face Hub, create a token in your settings tab (https://huggingface.co/settings/tokens), set it as secret in your Google Colab and restart your session.\n",
      "You will be able to reuse this secret in all of your notebooks.\n",
      "Please note that authentication is recommended but still optional to access public models or datasets.\n",
      "  warnings.warn(\n"
     ]
    }
   ],
   "source": [
    "# 임베딩\n",
    "\n",
    "db = FAISS.from_documents(docs, hf_embeddings, distance_strategy = DistanceStrategy.COSINE)"
   ]
  },
  {
   "cell_type": "code",
   "execution_count": 22,
   "metadata": {
    "executionInfo": {
     "elapsed": 833,
     "status": "ok",
     "timestamp": 1744269943105,
     "user": {
      "displayName": "Hanjae Kim",
      "userId": "02991760026987687501"
     },
     "user_tz": -540
    },
    "id": "CRX_1_FKZVLk"
   },
   "outputs": [],
   "source": [
    "# 벡터 DB 저장\n",
    "\n",
    "db.save_local('db/KTAS_adult_faiss')"
   ]
  },
  {
   "cell_type": "code",
   "execution_count": 22,
   "metadata": {
    "executionInfo": {
     "elapsed": 34,
     "status": "ok",
     "timestamp": 1744269943138,
     "user": {
      "displayName": "Hanjae Kim",
      "userId": "02991760026987687501"
     },
     "user_tz": -540
    },
    "id": "8l3gTPAhZVLk"
   },
   "outputs": [],
   "source": []
  }
 ],
 "metadata": {
  "accelerator": "GPU",
  "colab": {
   "gpuType": "T4",
   "provenance": []
  },
  "kernelspec": {
   "display_name": "Python 3",
   "name": "python3"
  },
  "language_info": {
   "codemirror_mode": {
    "name": "ipython",
    "version": 3
   },
   "file_extension": ".py",
   "mimetype": "text/x-python",
   "name": "python",
   "nbconvert_exporter": "python",
   "pygments_lexer": "ipython3",
   "version": "3.12.9"
  }
 },
 "nbformat": 4,
 "nbformat_minor": 0
}
